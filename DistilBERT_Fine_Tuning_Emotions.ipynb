{
  "cells": [
    {
      "cell_type": "markdown",
      "metadata": {
        "id": "view-in-github",
        "colab_type": "text"
      },
      "source": [
        "<a href=\"https://colab.research.google.com/github/AntonyBoza/NATURAL-LANGUAGE-PROCESSING/blob/master/DistilBERT_Fine_Tuning_Emotions.ipynb\" target=\"_parent\"><img src=\"https://colab.research.google.com/assets/colab-badge.svg\" alt=\"Open In Colab\"/></a>"
      ]
    },
    {
      "cell_type": "markdown",
      "metadata": {
        "id": "h4GgPka0DV8i"
      },
      "source": [
        "# VenApp Cases Multi-label classification with BERT\n",
        "\n",
        "Ref: https://data4thought.com/toxic_comments_transformer.html"
      ]
    },
    {
      "cell_type": "code",
      "execution_count": null,
      "metadata": {
        "id": "16sJU7WYDU_A"
      },
      "outputs": [],
      "source": [
        "!pip install -q transformers > /dev/null"
      ]
    },
    {
      "cell_type": "code",
      "execution_count": null,
      "metadata": {
        "colab": {
          "base_uri": "https://localhost:8080/"
        },
        "id": "d97yAqgvIAuL",
        "outputId": "8a1ed024-68f9-4eef-dc96-6239de26726b"
      },
      "outputs": [
        {
          "name": "stdout",
          "output_type": "stream",
          "text": [
            "Looking in indexes: https://pypi.org/simple, https://us-python.pkg.dev/colab-wheels/public/simple/\n",
            "Requirement already satisfied: tensorflow in /usr/local/lib/python3.8/dist-packages (2.9.2)\n",
            "Requirement already satisfied: protobuf<3.20,>=3.9.2 in /usr/local/lib/python3.8/dist-packages (from tensorflow) (3.19.6)\n",
            "Requirement already satisfied: tensorflow-estimator<2.10.0,>=2.9.0rc0 in /usr/local/lib/python3.8/dist-packages (from tensorflow) (2.9.0)\n",
            "Requirement already satisfied: six>=1.12.0 in /usr/local/lib/python3.8/dist-packages (from tensorflow) (1.15.0)\n",
            "Requirement already satisfied: flatbuffers<2,>=1.12 in /usr/local/lib/python3.8/dist-packages (from tensorflow) (1.12)\n",
            "Requirement already satisfied: astunparse>=1.6.0 in /usr/local/lib/python3.8/dist-packages (from tensorflow) (1.6.3)\n",
            "Requirement already satisfied: numpy>=1.20 in /usr/local/lib/python3.8/dist-packages (from tensorflow) (1.21.6)\n",
            "Requirement already satisfied: gast<=0.4.0,>=0.2.1 in /usr/local/lib/python3.8/dist-packages (from tensorflow) (0.4.0)\n",
            "Requirement already satisfied: termcolor>=1.1.0 in /usr/local/lib/python3.8/dist-packages (from tensorflow) (2.1.1)\n",
            "Requirement already satisfied: keras-preprocessing>=1.1.1 in /usr/local/lib/python3.8/dist-packages (from tensorflow) (1.1.2)\n",
            "Requirement already satisfied: absl-py>=1.0.0 in /usr/local/lib/python3.8/dist-packages (from tensorflow) (1.3.0)\n",
            "Requirement already satisfied: setuptools in /usr/local/lib/python3.8/dist-packages (from tensorflow) (57.4.0)\n",
            "Requirement already satisfied: wrapt>=1.11.0 in /usr/local/lib/python3.8/dist-packages (from tensorflow) (1.14.1)\n",
            "Requirement already satisfied: keras<2.10.0,>=2.9.0rc0 in /usr/local/lib/python3.8/dist-packages (from tensorflow) (2.9.0)\n",
            "Requirement already satisfied: typing-extensions>=3.6.6 in /usr/local/lib/python3.8/dist-packages (from tensorflow) (4.4.0)\n",
            "Requirement already satisfied: libclang>=13.0.0 in /usr/local/lib/python3.8/dist-packages (from tensorflow) (14.0.6)\n",
            "Requirement already satisfied: packaging in /usr/local/lib/python3.8/dist-packages (from tensorflow) (21.3)\n",
            "Requirement already satisfied: h5py>=2.9.0 in /usr/local/lib/python3.8/dist-packages (from tensorflow) (3.1.0)\n",
            "Requirement already satisfied: tensorboard<2.10,>=2.9 in /usr/local/lib/python3.8/dist-packages (from tensorflow) (2.9.1)\n",
            "Requirement already satisfied: tensorflow-io-gcs-filesystem>=0.23.1 in /usr/local/lib/python3.8/dist-packages (from tensorflow) (0.28.0)\n",
            "Requirement already satisfied: grpcio<2.0,>=1.24.3 in /usr/local/lib/python3.8/dist-packages (from tensorflow) (1.51.1)\n",
            "Requirement already satisfied: opt-einsum>=2.3.2 in /usr/local/lib/python3.8/dist-packages (from tensorflow) (3.3.0)\n",
            "Requirement already satisfied: google-pasta>=0.1.1 in /usr/local/lib/python3.8/dist-packages (from tensorflow) (0.2.0)\n",
            "Requirement already satisfied: wheel<1.0,>=0.23.0 in /usr/local/lib/python3.8/dist-packages (from astunparse>=1.6.0->tensorflow) (0.38.4)\n",
            "Requirement already satisfied: google-auth<3,>=1.6.3 in /usr/local/lib/python3.8/dist-packages (from tensorboard<2.10,>=2.9->tensorflow) (2.15.0)\n",
            "Requirement already satisfied: requests<3,>=2.21.0 in /usr/local/lib/python3.8/dist-packages (from tensorboard<2.10,>=2.9->tensorflow) (2.23.0)\n",
            "Requirement already satisfied: tensorboard-plugin-wit>=1.6.0 in /usr/local/lib/python3.8/dist-packages (from tensorboard<2.10,>=2.9->tensorflow) (1.8.1)\n",
            "Requirement already satisfied: werkzeug>=1.0.1 in /usr/local/lib/python3.8/dist-packages (from tensorboard<2.10,>=2.9->tensorflow) (1.0.1)\n",
            "Requirement already satisfied: tensorboard-data-server<0.7.0,>=0.6.0 in /usr/local/lib/python3.8/dist-packages (from tensorboard<2.10,>=2.9->tensorflow) (0.6.1)\n",
            "Requirement already satisfied: google-auth-oauthlib<0.5,>=0.4.1 in /usr/local/lib/python3.8/dist-packages (from tensorboard<2.10,>=2.9->tensorflow) (0.4.6)\n",
            "Requirement already satisfied: markdown>=2.6.8 in /usr/local/lib/python3.8/dist-packages (from tensorboard<2.10,>=2.9->tensorflow) (3.4.1)\n",
            "Requirement already satisfied: pyasn1-modules>=0.2.1 in /usr/local/lib/python3.8/dist-packages (from google-auth<3,>=1.6.3->tensorboard<2.10,>=2.9->tensorflow) (0.2.8)\n",
            "Requirement already satisfied: cachetools<6.0,>=2.0.0 in /usr/local/lib/python3.8/dist-packages (from google-auth<3,>=1.6.3->tensorboard<2.10,>=2.9->tensorflow) (5.2.0)\n",
            "Requirement already satisfied: rsa<5,>=3.1.4 in /usr/local/lib/python3.8/dist-packages (from google-auth<3,>=1.6.3->tensorboard<2.10,>=2.9->tensorflow) (4.9)\n",
            "Requirement already satisfied: requests-oauthlib>=0.7.0 in /usr/local/lib/python3.8/dist-packages (from google-auth-oauthlib<0.5,>=0.4.1->tensorboard<2.10,>=2.9->tensorflow) (1.3.1)\n",
            "Requirement already satisfied: importlib-metadata>=4.4 in /usr/local/lib/python3.8/dist-packages (from markdown>=2.6.8->tensorboard<2.10,>=2.9->tensorflow) (5.1.0)\n",
            "Requirement already satisfied: zipp>=0.5 in /usr/local/lib/python3.8/dist-packages (from importlib-metadata>=4.4->markdown>=2.6.8->tensorboard<2.10,>=2.9->tensorflow) (3.11.0)\n",
            "Requirement already satisfied: pyasn1<0.5.0,>=0.4.6 in /usr/local/lib/python3.8/dist-packages (from pyasn1-modules>=0.2.1->google-auth<3,>=1.6.3->tensorboard<2.10,>=2.9->tensorflow) (0.4.8)\n",
            "Requirement already satisfied: certifi>=2017.4.17 in /usr/local/lib/python3.8/dist-packages (from requests<3,>=2.21.0->tensorboard<2.10,>=2.9->tensorflow) (2022.12.7)\n",
            "Requirement already satisfied: urllib3!=1.25.0,!=1.25.1,<1.26,>=1.21.1 in /usr/local/lib/python3.8/dist-packages (from requests<3,>=2.21.0->tensorboard<2.10,>=2.9->tensorflow) (1.24.3)\n",
            "Requirement already satisfied: chardet<4,>=3.0.2 in /usr/local/lib/python3.8/dist-packages (from requests<3,>=2.21.0->tensorboard<2.10,>=2.9->tensorflow) (3.0.4)\n",
            "Requirement already satisfied: idna<3,>=2.5 in /usr/local/lib/python3.8/dist-packages (from requests<3,>=2.21.0->tensorboard<2.10,>=2.9->tensorflow) (2.10)\n",
            "Requirement already satisfied: oauthlib>=3.0.0 in /usr/local/lib/python3.8/dist-packages (from requests-oauthlib>=0.7.0->google-auth-oauthlib<0.5,>=0.4.1->tensorboard<2.10,>=2.9->tensorflow) (3.2.2)\n",
            "Requirement already satisfied: pyparsing!=3.0.5,>=2.0.2 in /usr/local/lib/python3.8/dist-packages (from packaging->tensorflow) (3.0.9)\n"
          ]
        }
      ],
      "source": [
        "!pip install tensorflow"
      ]
    },
    {
      "cell_type": "code",
      "execution_count": null,
      "metadata": {
        "id": "YM8JRmA7FpKG"
      },
      "outputs": [],
      "source": [
        "import os\n",
        "import pandas as pd\n",
        "from sklearn.model_selection import train_test_split\n",
        "import matplotlib.pyplot as plt\n",
        "import matplotlib.ticker as mtick\n",
        "import seaborn as sns\n",
        "import numpy as np  \n",
        "from sklearn.dummy import DummyClassifier\n",
        "from sklearn.metrics import log_loss, average_precision_score\n",
        "from time import time\n",
        "\n",
        "pd.set_option(\"display.precision\", 3)\n",
        "from sklearn.feature_extraction.text import TfidfVectorizer\n",
        "from sklearn.linear_model import LogisticRegression\n",
        "from sklearn.multiclass import OneVsRestClassifier\n",
        "from sklearn.pipeline import make_pipeline"
      ]
    },
    {
      "cell_type": "code",
      "execution_count": null,
      "metadata": {
        "id": "iemtyWJqHquw"
      },
      "outputs": [],
      "source": [
        "import transformers\n",
        "import tensorflow as tf\n",
        "from transformers import TFDistilBertForSequenceClassification, \\\n",
        "    DistilBertConfig, DistilBertTokenizerFast"
      ]
    },
    {
      "cell_type": "code",
      "execution_count": null,
      "metadata": {
        "id": "AlY-4Tk4FpC9"
      },
      "outputs": [],
      "source": [
        "from tensorflow.keras.initializers import TruncatedNormal\n",
        "from tensorflow.keras.layers import Input, Dropout, Dense\n",
        "from tensorflow.keras.losses import BinaryCrossentropy\n",
        "from tensorflow.keras.metrics import AUC\n",
        "from tensorflow.keras.models import Model\n",
        "from tensorflow.keras.optimizers import Adam\n",
        "from tensorflow.keras.models import load_model"
      ]
    },
    {
      "cell_type": "code",
      "execution_count": null,
      "metadata": {
        "colab": {
          "background_save": true
        },
        "id": "mRm4SavOG4pT"
      },
      "outputs": [],
      "source": []
    },
    {
      "cell_type": "code",
      "execution_count": null,
      "metadata": {
        "colab": {
          "base_uri": "https://localhost:8080/"
        },
        "id": "jaZhjhkkFo5d",
        "outputId": "0c058679-43f3-4765-e8f9-4ecceaf59791"
      },
      "outputs": [
        {
          "name": "stdout",
          "output_type": "stream",
          "text": [
            "Mounted at /content/drive\n"
          ]
        }
      ],
      "source": [
        "# Cargamos el Google Drive para almacenar los archivos\n",
        "from google.colab import drive\n",
        "drive.mount('/content/drive')"
      ]
    },
    {
      "cell_type": "code",
      "execution_count": null,
      "metadata": {
        "id": "LkB5KTghGMNr"
      },
      "outputs": [],
      "source": [
        "FOLDER_PATH = r\"/content/drive/MyDrive/VENAPP_CLASIF_CASOS/\""
      ]
    },
    {
      "cell_type": "code",
      "execution_count": null,
      "metadata": {
        "id": "P8Lqh5CIGNEm"
      },
      "outputs": [],
      "source": [
        "file = FOLDER_PATH+\"dataset_venapp_one-hot.csv\""
      ]
    },
    {
      "cell_type": "code",
      "execution_count": null,
      "metadata": {
        "colab": {
          "base_uri": "https://localhost:8080/",
          "height": 601
        },
        "id": "w3RNukcsISWw",
        "outputId": "83c4e77b-70ec-495d-d048-1521703c7a56"
      },
      "outputs": [
        {
          "data": {
            "text/html": [
              "\n",
              "  <div id=\"df-ad7aad37-fb32-463f-8a7e-541a937de8ad\">\n",
              "    <div class=\"colab-df-container\">\n",
              "      <div>\n",
              "<style scoped>\n",
              "    .dataframe tbody tr th:only-of-type {\n",
              "        vertical-align: middle;\n",
              "    }\n",
              "\n",
              "    .dataframe tbody tr th {\n",
              "        vertical-align: top;\n",
              "    }\n",
              "\n",
              "    .dataframe thead th {\n",
              "        text-align: right;\n",
              "    }\n",
              "</style>\n",
              "<table border=\"1\" class=\"dataframe\">\n",
              "  <thead>\n",
              "    <tr style=\"text-align: right;\">\n",
              "      <th></th>\n",
              "      <th>text</th>\n",
              "      <th>Agua-Atenciones de instalaciones y equipos</th>\n",
              "      <th>Agua-Atención inmediata de agua potable</th>\n",
              "      <th>Agua-Atención inmediata de aguas servidas</th>\n",
              "      <th>Agua-Ciclos de Abastecimiento</th>\n",
              "      <th>Agua-Otros A</th>\n",
              "      <th>Agua-Proyectos mayores</th>\n",
              "      <th>Educación-Administrativo (Casos colectivos)</th>\n",
              "      <th>Educación-Administrativo (Casos personales)</th>\n",
              "      <th>Educación-Infraestructura E</th>\n",
              "      <th>...</th>\n",
              "      <th>Telecomunicaciones-Falla TDA</th>\n",
              "      <th>Telecomunicaciones-Instalación de línea e internet</th>\n",
              "      <th>Telecomunicaciones-Mudanza de línea</th>\n",
              "      <th>Telecomunicaciones-Reclamo de facturación</th>\n",
              "      <th>Telecomunicaciones-Registro ABA</th>\n",
              "      <th>Transporte-Afectación de vialidad</th>\n",
              "      <th>Transporte-Combustible</th>\n",
              "      <th>Transporte-Deterioro de unidades de transporte superficial</th>\n",
              "      <th>Transporte-Déficit de unidades de transporte superficial</th>\n",
              "      <th>Transporte-Mal funcionamiento o vandalismo en los sistemas de transporte</th>\n",
              "    </tr>\n",
              "  </thead>\n",
              "  <tbody>\n",
              "    <tr>\n",
              "      <th>6753</th>\n",
              "      <td>operativo gas robaron bombona mediana nunca de...</td>\n",
              "      <td>0</td>\n",
              "      <td>0</td>\n",
              "      <td>0</td>\n",
              "      <td>0</td>\n",
              "      <td>0</td>\n",
              "      <td>0</td>\n",
              "      <td>0</td>\n",
              "      <td>0</td>\n",
              "      <td>0</td>\n",
              "      <td>...</td>\n",
              "      <td>0</td>\n",
              "      <td>0</td>\n",
              "      <td>0</td>\n",
              "      <td>0</td>\n",
              "      <td>0</td>\n",
              "      <td>0</td>\n",
              "      <td>0</td>\n",
              "      <td>0</td>\n",
              "      <td>0</td>\n",
              "      <td>0</td>\n",
              "    </tr>\n",
              "    <tr>\n",
              "      <th>14037</th>\n",
              "      <td>grupo q funciona ilegal hijos d bloqueron cobr...</td>\n",
              "      <td>0</td>\n",
              "      <td>0</td>\n",
              "      <td>0</td>\n",
              "      <td>0</td>\n",
              "      <td>0</td>\n",
              "      <td>0</td>\n",
              "      <td>0</td>\n",
              "      <td>0</td>\n",
              "      <td>0</td>\n",
              "      <td>...</td>\n",
              "      <td>0</td>\n",
              "      <td>0</td>\n",
              "      <td>0</td>\n",
              "      <td>0</td>\n",
              "      <td>0</td>\n",
              "      <td>0</td>\n",
              "      <td>0</td>\n",
              "      <td>0</td>\n",
              "      <td>0</td>\n",
              "      <td>1</td>\n",
              "    </tr>\n",
              "    <tr>\n",
              "      <th>11933</th>\n",
              "      <td>buenas tardes haciendo reporte falta internet ...</td>\n",
              "      <td>0</td>\n",
              "      <td>0</td>\n",
              "      <td>0</td>\n",
              "      <td>0</td>\n",
              "      <td>0</td>\n",
              "      <td>0</td>\n",
              "      <td>0</td>\n",
              "      <td>0</td>\n",
              "      <td>0</td>\n",
              "      <td>...</td>\n",
              "      <td>0</td>\n",
              "      <td>0</td>\n",
              "      <td>0</td>\n",
              "      <td>0</td>\n",
              "      <td>0</td>\n",
              "      <td>0</td>\n",
              "      <td>0</td>\n",
              "      <td>0</td>\n",
              "      <td>0</td>\n",
              "      <td>0</td>\n",
              "    </tr>\n",
              "  </tbody>\n",
              "</table>\n",
              "<p>3 rows × 41 columns</p>\n",
              "</div>\n",
              "      <button class=\"colab-df-convert\" onclick=\"convertToInteractive('df-ad7aad37-fb32-463f-8a7e-541a937de8ad')\"\n",
              "              title=\"Convert this dataframe to an interactive table.\"\n",
              "              style=\"display:none;\">\n",
              "        \n",
              "  <svg xmlns=\"http://www.w3.org/2000/svg\" height=\"24px\"viewBox=\"0 0 24 24\"\n",
              "       width=\"24px\">\n",
              "    <path d=\"M0 0h24v24H0V0z\" fill=\"none\"/>\n",
              "    <path d=\"M18.56 5.44l.94 2.06.94-2.06 2.06-.94-2.06-.94-.94-2.06-.94 2.06-2.06.94zm-11 1L8.5 8.5l.94-2.06 2.06-.94-2.06-.94L8.5 2.5l-.94 2.06-2.06.94zm10 10l.94 2.06.94-2.06 2.06-.94-2.06-.94-.94-2.06-.94 2.06-2.06.94z\"/><path d=\"M17.41 7.96l-1.37-1.37c-.4-.4-.92-.59-1.43-.59-.52 0-1.04.2-1.43.59L10.3 9.45l-7.72 7.72c-.78.78-.78 2.05 0 2.83L4 21.41c.39.39.9.59 1.41.59.51 0 1.02-.2 1.41-.59l7.78-7.78 2.81-2.81c.8-.78.8-2.07 0-2.86zM5.41 20L4 18.59l7.72-7.72 1.47 1.35L5.41 20z\"/>\n",
              "  </svg>\n",
              "      </button>\n",
              "      \n",
              "  <style>\n",
              "    .colab-df-container {\n",
              "      display:flex;\n",
              "      flex-wrap:wrap;\n",
              "      gap: 12px;\n",
              "    }\n",
              "\n",
              "    .colab-df-convert {\n",
              "      background-color: #E8F0FE;\n",
              "      border: none;\n",
              "      border-radius: 50%;\n",
              "      cursor: pointer;\n",
              "      display: none;\n",
              "      fill: #1967D2;\n",
              "      height: 32px;\n",
              "      padding: 0 0 0 0;\n",
              "      width: 32px;\n",
              "    }\n",
              "\n",
              "    .colab-df-convert:hover {\n",
              "      background-color: #E2EBFA;\n",
              "      box-shadow: 0px 1px 2px rgba(60, 64, 67, 0.3), 0px 1px 3px 1px rgba(60, 64, 67, 0.15);\n",
              "      fill: #174EA6;\n",
              "    }\n",
              "\n",
              "    [theme=dark] .colab-df-convert {\n",
              "      background-color: #3B4455;\n",
              "      fill: #D2E3FC;\n",
              "    }\n",
              "\n",
              "    [theme=dark] .colab-df-convert:hover {\n",
              "      background-color: #434B5C;\n",
              "      box-shadow: 0px 1px 3px 1px rgba(0, 0, 0, 0.15);\n",
              "      filter: drop-shadow(0px 1px 2px rgba(0, 0, 0, 0.3));\n",
              "      fill: #FFFFFF;\n",
              "    }\n",
              "  </style>\n",
              "\n",
              "      <script>\n",
              "        const buttonEl =\n",
              "          document.querySelector('#df-ad7aad37-fb32-463f-8a7e-541a937de8ad button.colab-df-convert');\n",
              "        buttonEl.style.display =\n",
              "          google.colab.kernel.accessAllowed ? 'block' : 'none';\n",
              "\n",
              "        async function convertToInteractive(key) {\n",
              "          const element = document.querySelector('#df-ad7aad37-fb32-463f-8a7e-541a937de8ad');\n",
              "          const dataTable =\n",
              "            await google.colab.kernel.invokeFunction('convertToInteractive',\n",
              "                                                     [key], {});\n",
              "          if (!dataTable) return;\n",
              "\n",
              "          const docLinkHtml = 'Like what you see? Visit the ' +\n",
              "            '<a target=\"_blank\" href=https://colab.research.google.com/notebooks/data_table.ipynb>data table notebook</a>'\n",
              "            + ' to learn more about interactive tables.';\n",
              "          element.innerHTML = '';\n",
              "          dataTable['output_type'] = 'display_data';\n",
              "          await google.colab.output.renderOutput(dataTable, element);\n",
              "          const docLink = document.createElement('div');\n",
              "          docLink.innerHTML = docLinkHtml;\n",
              "          element.appendChild(docLink);\n",
              "        }\n",
              "      </script>\n",
              "    </div>\n",
              "  </div>\n",
              "  "
            ],
            "text/plain": [
              "                                                    text  \\\n",
              "6753   operativo gas robaron bombona mediana nunca de...   \n",
              "14037  grupo q funciona ilegal hijos d bloqueron cobr...   \n",
              "11933  buenas tardes haciendo reporte falta internet ...   \n",
              "\n",
              "       Agua-Atenciones de instalaciones y equipos  \\\n",
              "6753                                            0   \n",
              "14037                                           0   \n",
              "11933                                           0   \n",
              "\n",
              "       Agua-Atención inmediata de agua potable  \\\n",
              "6753                                         0   \n",
              "14037                                        0   \n",
              "11933                                        0   \n",
              "\n",
              "       Agua-Atención inmediata de aguas servidas  \\\n",
              "6753                                           0   \n",
              "14037                                          0   \n",
              "11933                                          0   \n",
              "\n",
              "       Agua-Ciclos de Abastecimiento  Agua-Otros A  Agua-Proyectos mayores  \\\n",
              "6753                               0             0                       0   \n",
              "14037                              0             0                       0   \n",
              "11933                              0             0                       0   \n",
              "\n",
              "       Educación-Administrativo (Casos colectivos)  \\\n",
              "6753                                             0   \n",
              "14037                                            0   \n",
              "11933                                            0   \n",
              "\n",
              "       Educación-Administrativo (Casos personales)  \\\n",
              "6753                                             0   \n",
              "14037                                            0   \n",
              "11933                                            0   \n",
              "\n",
              "       Educación-Infraestructura E  ...  Telecomunicaciones-Falla TDA  \\\n",
              "6753                             0  ...                             0   \n",
              "14037                            0  ...                             0   \n",
              "11933                            0  ...                             0   \n",
              "\n",
              "       Telecomunicaciones-Instalación de línea e internet  \\\n",
              "6753                                                   0    \n",
              "14037                                                  0    \n",
              "11933                                                  0    \n",
              "\n",
              "       Telecomunicaciones-Mudanza de línea  \\\n",
              "6753                                     0   \n",
              "14037                                    0   \n",
              "11933                                    0   \n",
              "\n",
              "       Telecomunicaciones-Reclamo de facturación  \\\n",
              "6753                                           0   \n",
              "14037                                          0   \n",
              "11933                                          0   \n",
              "\n",
              "       Telecomunicaciones-Registro ABA  Transporte-Afectación de vialidad  \\\n",
              "6753                                 0                                  0   \n",
              "14037                                0                                  0   \n",
              "11933                                0                                  0   \n",
              "\n",
              "       Transporte-Combustible  \\\n",
              "6753                        0   \n",
              "14037                       0   \n",
              "11933                       0   \n",
              "\n",
              "       Transporte-Deterioro de unidades de transporte superficial  \\\n",
              "6753                                                   0            \n",
              "14037                                                  0            \n",
              "11933                                                  0            \n",
              "\n",
              "       Transporte-Déficit de unidades de transporte superficial  \\\n",
              "6753                                                   0          \n",
              "14037                                                  0          \n",
              "11933                                                  0          \n",
              "\n",
              "       Transporte-Mal funcionamiento o vandalismo en los sistemas de transporte  \n",
              "6753                                                   0                         \n",
              "14037                                                  1                         \n",
              "11933                                                  0                         \n",
              "\n",
              "[3 rows x 41 columns]"
            ]
          },
          "execution_count": 21,
          "metadata": {},
          "output_type": "execute_result"
        }
      ],
      "source": [
        "dataset = pd.read_csv(file)\n",
        "dataset.sample(3)"
      ]
    },
    {
      "cell_type": "code",
      "execution_count": null,
      "metadata": {
        "id": "WaDDSE44Ijay"
      },
      "outputs": [],
      "source": [
        "texts = list(dataset[\"text\"])\n",
        "label_names = dataset.drop([\"text\"], axis=1).columns\n",
        "labels = dataset[label_names].values"
      ]
    },
    {
      "cell_type": "code",
      "execution_count": null,
      "metadata": {
        "id": "MljOb7FLQ9BC"
      },
      "outputs": [],
      "source": [
        "train_texts, test_texts, train_labels, test_labels = train_test_split(\n",
        "    texts, labels, test_size=0.2, random_state=42)"
      ]
    },
    {
      "cell_type": "code",
      "execution_count": null,
      "metadata": {
        "colab": {
          "base_uri": "https://localhost:8080/"
        },
        "id": "GWMI78vMIzCW",
        "outputId": "b62b72ab-b17d-4cf7-91fe-9482bd11c457"
      },
      "outputs": [
        {
          "name": "stdout",
          "output_type": "stream",
          "text": [
            "Sample: \"final av arismendi dinde encuentra escuela san vicente final callejon hace falta buena asfaltada tambien estan afectados linea camionetas\"\n",
            "Labels: {'Agua-Atenciones de instalaciones y equipos': 0, 'Agua-Atención inmediata de agua potable': 0, 'Agua-Atención inmediata de aguas servidas': 0, 'Agua-Ciclos de Abastecimiento': 0, 'Agua-Otros A': 0, 'Agua-Proyectos mayores': 0, 'Educación-Administrativo (Casos colectivos)': 0, 'Educación-Administrativo (Casos personales)': 0, 'Educación-Infraestructura E': 0, 'Electricidad-Alumbrado público': 0, 'Electricidad-Falla de Servicio Eléctrico': 0, 'Electricidad-Otros': 0, 'Electricidad-Pica y Poda': 0, 'Electricidad-Proyecto de Electrificación': 0, 'Electricidad-Transformador': 0, 'Gas-Ciclos de Atención': 0, 'Gas-Conexión a Gasificación Directa': 0, 'Gas-Fuga de gas': 0, 'Gas-Sustitución de bombonas o tanques estacionarios': 0, 'Huracanes, Tormentas Tropicales-Ayuda Damnificados por Lluvia, daños en general y a infraestructura': 0, 'Metro de Caracas-Buscaracas': 0, 'Metro de Caracas-Líneas e infraestructura E': 0, 'Metro de Caracas-Metro Cable o Cable Tren Bolivariano': 0, 'Salud-Caso Salud Individual': 0, 'Salud-Centro de Salud Cerrado': 0, 'Salud-Cobro Ilegal y Sustracción de Insumos': 0, 'Salud-Falta de Insumos': 0, 'Salud-Infraestructura': 0, 'Telecomunicaciones-Avería de voz y/o datos': 0, 'Telecomunicaciones-Cambio de cable en la zona': 0, 'Telecomunicaciones-Falla TDA': 0, 'Telecomunicaciones-Instalación de línea e internet': 0, 'Telecomunicaciones-Mudanza de línea': 0, 'Telecomunicaciones-Reclamo de facturación': 0, 'Telecomunicaciones-Registro ABA': 0, 'Transporte-Afectación de vialidad': 1, 'Transporte-Combustible': 0, 'Transporte-Deterioro de unidades de transporte superficial': 0, 'Transporte-Déficit de unidades de transporte superficial': 0, 'Transporte-Mal funcionamiento o vandalismo en los sistemas de transporte': 0}\n"
          ]
        }
      ],
      "source": [
        "sample_idx = 120\n",
        "print(f'Sample: \"{train_texts[sample_idx]}\"')\n",
        "print(f\"Labels: {pd.Series(train_labels[sample_idx], label_names).to_dict()}\")"
      ]
    },
    {
      "cell_type": "markdown",
      "metadata": {
        "id": "iCpN2dbiRmmE"
      },
      "source": [
        "### Exploratory Data Analysis"
      ]
    },
    {
      "cell_type": "code",
      "execution_count": null,
      "metadata": {
        "colab": {
          "base_uri": "https://localhost:8080/",
          "height": 281
        },
        "id": "GQaTdkTaRDLT",
        "outputId": "e921eb2a-6f18-49a7-b127-23fd542dd1e2"
      },
      "outputs": [
        {
          "data": {
            "image/png": "[encoded data removed]",
            "text/plain": [
              "<Figure size 432x288 with 1 Axes>"
            ]
          },
          "metadata": {},
          "output_type": "display_data"
        }
      ],
      "source": [
        "text_lengths = [len(t.split()) for t in train_texts]\n",
        "ax = sns.histplot(data=text_lengths, kde=True, stat=\"density\")\n",
        "ax.set_title(\"Texts length distribution (number of words)\");"
      ]
    },
    {
      "cell_type": "code",
      "execution_count": null,
      "metadata": {
        "id": "fHkKdhBJRsnz"
      },
      "outputs": [],
      "source": [
        "# Let's choose a cutoff of 25 words, since most texts are shorter than this."
      ]
    },
    {
      "cell_type": "markdown",
      "metadata": {
        "id": "d3zys6rJSZRH"
      },
      "source": [
        "### Chack label's imbalance"
      ]
    },
    {
      "cell_type": "code",
      "execution_count": null,
      "metadata": {
        "colab": {
          "base_uri": "https://localhost:8080/",
          "height": 926
        },
        "id": "1BnjC_yVSR71",
        "outputId": "b567b0b0-ca63-4992-e9ad-dad150383d7f"
      },
      "outputs": [
        {
          "name": "stderr",
          "output_type": "stream",
          "text": [
            "/usr/local/lib/python3.8/dist-packages/IPython/core/events.py:88: UserWarning: constrained_layout not applied.  At least one axes collapsed to zero width or height.\n",
            "  func(*args, **kwargs)\n",
            "/usr/local/lib/python3.8/dist-packages/IPython/core/pylabtools.py:128: UserWarning: constrained_layout not applied.  At least one axes collapsed to zero width or height.\n",
            "  fig.canvas.print_figure(bytes_io, **kw)\n"
          ]
        },
        {
          "data": {
            "image/png": "[encoded data removed]",
            "text/plain": [
              "<Figure size 720x360 with 1 Axes>"
            ]
          },
          "metadata": {},
          "output_type": "display_data"
        }
      ],
      "source": [
        "fig, ax1 = plt.subplots(1, figsize=(10, 5), constrained_layout=True)\n",
        "\n",
        "# Labels distribution barplot\n",
        "labels_ratio = dataset[label_names].mean()\n",
        "labels_ratio.plot(kind=\"bar\", ax=ax1)\n",
        "ax1.yaxis.set_major_formatter(mtick.PercentFormatter(1.0, decimals=False))\n",
        "for p in ax1.patches:\n",
        "    ax1.set_ylim(0, 1.1 * labels_ratio.max())\n",
        "    ax1.annotate(f\"{p.get_height():.2%}\", (p.get_x() + 0.005, p.get_height() + 0.002))\n",
        "ax1.set_title(\"Labels ratio\");\n",
        "\n",
        "# Labels correlation heatmap\n",
        "#ax2 = sns.heatmap(dataset[label_names].corr())\n",
        "#ax2.set_title(\"Labels correlation\")\n",
        "fig.show()"
      ]
    },
    {
      "cell_type": "markdown",
      "metadata": {
        "id": "WloT8EGcT0S8"
      },
      "source": [
        "For benchmark purpose it is always useful to know the performance of a dummy classifier that always predicts the label ratio as the label probability. Note that for multi-label classification we make a distinction between the accuracy (all predicted labels are correct) and the binary accuracy (how many individual labels are correct). The latter is always larger than the former because it is harder to predict all labels correctly. In the following I only compute the binary accuracy."
      ]
    },
    {
      "cell_type": "code",
      "execution_count": null,
      "metadata": {
        "colab": {
          "base_uri": "https://localhost:8080/",
          "height": 209
        },
        "id": "6wZcyBnnSd_M",
        "outputId": "7601f21d-9464-4080-bdfd-5ff28221de19"
      },
      "outputs": [
        {
          "name": "stderr",
          "output_type": "stream",
          "text": [
            "/usr/local/lib/python3.8/dist-packages/sklearn/metrics/_ranking.py:864: RuntimeWarning: invalid value encountered in true_divide\n",
            "  recall = tps / tps[-1]\n"
          ]
        },
        {
          "data": {
            "text/html": [
              "\n",
              "  <div id=\"df-7ce65a16-50b3-4bee-97cb-71d2f5e9e1d8\">\n",
              "    <div class=\"colab-df-container\">\n",
              "      <div>\n",
              "<style scoped>\n",
              "    .dataframe tbody tr th:only-of-type {\n",
              "        vertical-align: middle;\n",
              "    }\n",
              "\n",
              "    .dataframe tbody tr th {\n",
              "        vertical-align: top;\n",
              "    }\n",
              "\n",
              "    .dataframe thead th {\n",
              "        text-align: right;\n",
              "    }\n",
              "</style>\n",
              "<table border=\"1\" class=\"dataframe\">\n",
              "  <thead>\n",
              "    <tr style=\"text-align: right;\">\n",
              "      <th></th>\n",
              "      <th>Dummy</th>\n",
              "    </tr>\n",
              "  </thead>\n",
              "  <tbody>\n",
              "    <tr>\n",
              "      <th>Multi-label accuracy</th>\n",
              "      <td>0.000</td>\n",
              "    </tr>\n",
              "    <tr>\n",
              "      <th>Binary accuracy</th>\n",
              "      <td>0.975</td>\n",
              "    </tr>\n",
              "    <tr>\n",
              "      <th>Loss</th>\n",
              "      <td>3.005</td>\n",
              "    </tr>\n",
              "    <tr>\n",
              "      <th>Average Precision</th>\n",
              "      <td>NaN</td>\n",
              "    </tr>\n",
              "  </tbody>\n",
              "</table>\n",
              "</div>\n",
              "      <button class=\"colab-df-convert\" onclick=\"convertToInteractive('df-7ce65a16-50b3-4bee-97cb-71d2f5e9e1d8')\"\n",
              "              title=\"Convert this dataframe to an interactive table.\"\n",
              "              style=\"display:none;\">\n",
              "        \n",
              "  <svg xmlns=\"http://www.w3.org/2000/svg\" height=\"24px\"viewBox=\"0 0 24 24\"\n",
              "       width=\"24px\">\n",
              "    <path d=\"M0 0h24v24H0V0z\" fill=\"none\"/>\n",
              "    <path d=\"M18.56 5.44l.94 2.06.94-2.06 2.06-.94-2.06-.94-.94-2.06-.94 2.06-2.06.94zm-11 1L8.5 8.5l.94-2.06 2.06-.94-2.06-.94L8.5 2.5l-.94 2.06-2.06.94zm10 10l.94 2.06.94-2.06 2.06-.94-2.06-.94-.94-2.06-.94 2.06-2.06.94z\"/><path d=\"M17.41 7.96l-1.37-1.37c-.4-.4-.92-.59-1.43-.59-.52 0-1.04.2-1.43.59L10.3 9.45l-7.72 7.72c-.78.78-.78 2.05 0 2.83L4 21.41c.39.39.9.59 1.41.59.51 0 1.02-.2 1.41-.59l7.78-7.78 2.81-2.81c.8-.78.8-2.07 0-2.86zM5.41 20L4 18.59l7.72-7.72 1.47 1.35L5.41 20z\"/>\n",
              "  </svg>\n",
              "      </button>\n",
              "      \n",
              "  <style>\n",
              "    .colab-df-container {\n",
              "      display:flex;\n",
              "      flex-wrap:wrap;\n",
              "      gap: 12px;\n",
              "    }\n",
              "\n",
              "    .colab-df-convert {\n",
              "      background-color: #E8F0FE;\n",
              "      border: none;\n",
              "      border-radius: 50%;\n",
              "      cursor: pointer;\n",
              "      display: none;\n",
              "      fill: #1967D2;\n",
              "      height: 32px;\n",
              "      padding: 0 0 0 0;\n",
              "      width: 32px;\n",
              "    }\n",
              "\n",
              "    .colab-df-convert:hover {\n",
              "      background-color: #E2EBFA;\n",
              "      box-shadow: 0px 1px 2px rgba(60, 64, 67, 0.3), 0px 1px 3px 1px rgba(60, 64, 67, 0.15);\n",
              "      fill: #174EA6;\n",
              "    }\n",
              "\n",
              "    [theme=dark] .colab-df-convert {\n",
              "      background-color: #3B4455;\n",
              "      fill: #D2E3FC;\n",
              "    }\n",
              "\n",
              "    [theme=dark] .colab-df-convert:hover {\n",
              "      background-color: #434B5C;\n",
              "      box-shadow: 0px 1px 3px 1px rgba(0, 0, 0, 0.15);\n",
              "      filter: drop-shadow(0px 1px 2px rgba(0, 0, 0, 0.3));\n",
              "      fill: #FFFFFF;\n",
              "    }\n",
              "  </style>\n",
              "\n",
              "      <script>\n",
              "        const buttonEl =\n",
              "          document.querySelector('#df-7ce65a16-50b3-4bee-97cb-71d2f5e9e1d8 button.colab-df-convert');\n",
              "        buttonEl.style.display =\n",
              "          google.colab.kernel.accessAllowed ? 'block' : 'none';\n",
              "\n",
              "        async function convertToInteractive(key) {\n",
              "          const element = document.querySelector('#df-7ce65a16-50b3-4bee-97cb-71d2f5e9e1d8');\n",
              "          const dataTable =\n",
              "            await google.colab.kernel.invokeFunction('convertToInteractive',\n",
              "                                                     [key], {});\n",
              "          if (!dataTable) return;\n",
              "\n",
              "          const docLinkHtml = 'Like what you see? Visit the ' +\n",
              "            '<a target=\"_blank\" href=https://colab.research.google.com/notebooks/data_table.ipynb>data table notebook</a>'\n",
              "            + ' to learn more about interactive tables.';\n",
              "          element.innerHTML = '';\n",
              "          dataTable['output_type'] = 'display_data';\n",
              "          await google.colab.output.renderOutput(dataTable, element);\n",
              "          const docLink = document.createElement('div');\n",
              "          docLink.innerHTML = docLinkHtml;\n",
              "          element.appendChild(docLink);\n",
              "        }\n",
              "      </script>\n",
              "    </div>\n",
              "  </div>\n",
              "  "
            ],
            "text/plain": [
              "                      Dummy\n",
              "Multi-label accuracy  0.000\n",
              "Binary accuracy       0.975\n",
              "Loss                  3.005\n",
              "Average Precision       NaN"
            ]
          },
          "execution_count": 28,
          "metadata": {},
          "output_type": "execute_result"
        }
      ],
      "source": [
        "dummy = DummyClassifier(strategy=\"prior\")\n",
        "dummy.fit(train_texts, train_labels)\n",
        "y_pred = dummy.predict(test_texts)\n",
        "y_prob = dummy.predict_proba(test_texts)\n",
        "y_prob = np.array(y_prob)[:, :, 1].T\n",
        "\n",
        "def compute_metrics(y_true: np.array, y_prob: np.array) -> pd.Series:\n",
        "    \"\"\"Compute several performance metrics for multi-label classification. \"\"\"\n",
        "    y_pred = y_prob.round()\n",
        "    metrics = dict()\n",
        "    metrics[\"Multi-label accuracy\"] = np.all(y_pred == y_true, axis=1).mean()\n",
        "    metrics[\"Binary accuracy\"] = (y_pred == y_true).mean()\n",
        "    metrics[\"Loss\"] = log_loss(y_true, y_prob)\n",
        "    metrics[\"Average Precision\"] = average_precision_score(y_true, y_prob)\n",
        "    return pd.Series(metrics)\n",
        "\n",
        "evaluation = compute_metrics(test_labels, y_prob).to_frame(name=\"Dummy\")\n",
        "evaluation"
      ]
    },
    {
      "cell_type": "markdown",
      "metadata": {
        "id": "liXWqhWIUG9m"
      },
      "source": [
        "### Setting a baseline\n",
        "\n",
        "Let's setup a baseline with a rather classic NLP modelling technique: a TF-IDF vectorization step followed by a regularized logistic regression. Despite its simplicity, this approach often give good results."
      ]
    },
    {
      "cell_type": "code",
      "execution_count": null,
      "metadata": {
        "colab": {
          "base_uri": "https://localhost:8080/",
          "height": 209
        },
        "id": "CB147QuOT8FG",
        "outputId": "7f446988-9d40-4288-a552-b30e44428e99"
      },
      "outputs": [
        {
          "name": "stderr",
          "output_type": "stream",
          "text": [
            "/usr/local/lib/python3.8/dist-packages/sklearn/metrics/_ranking.py:864: RuntimeWarning: invalid value encountered in true_divide\n",
            "  recall = tps / tps[-1]\n"
          ]
        },
        {
          "data": {
            "text/html": [
              "\n",
              "  <div id=\"df-7b76bcb0-6538-4178-b2be-e11dcc87410a\">\n",
              "    <div class=\"colab-df-container\">\n",
              "      <div>\n",
              "<style scoped>\n",
              "    .dataframe tbody tr th:only-of-type {\n",
              "        vertical-align: middle;\n",
              "    }\n",
              "\n",
              "    .dataframe tbody tr th {\n",
              "        vertical-align: top;\n",
              "    }\n",
              "\n",
              "    .dataframe thead th {\n",
              "        text-align: right;\n",
              "    }\n",
              "</style>\n",
              "<table border=\"1\" class=\"dataframe\">\n",
              "  <thead>\n",
              "    <tr style=\"text-align: right;\">\n",
              "      <th></th>\n",
              "      <th>Dummy</th>\n",
              "      <th>Baseline</th>\n",
              "    </tr>\n",
              "  </thead>\n",
              "  <tbody>\n",
              "    <tr>\n",
              "      <th>Multi-label accuracy</th>\n",
              "      <td>0.000</td>\n",
              "      <td>0.521</td>\n",
              "    </tr>\n",
              "    <tr>\n",
              "      <th>Binary accuracy</th>\n",
              "      <td>0.975</td>\n",
              "      <td>0.986</td>\n",
              "    </tr>\n",
              "    <tr>\n",
              "      <th>Loss</th>\n",
              "      <td>3.005</td>\n",
              "      <td>1.103</td>\n",
              "    </tr>\n",
              "    <tr>\n",
              "      <th>Average Precision</th>\n",
              "      <td>NaN</td>\n",
              "      <td>NaN</td>\n",
              "    </tr>\n",
              "  </tbody>\n",
              "</table>\n",
              "</div>\n",
              "      <button class=\"colab-df-convert\" onclick=\"convertToInteractive('df-7b76bcb0-6538-4178-b2be-e11dcc87410a')\"\n",
              "              title=\"Convert this dataframe to an interactive table.\"\n",
              "              style=\"display:none;\">\n",
              "        \n",
              "  <svg xmlns=\"http://www.w3.org/2000/svg\" height=\"24px\"viewBox=\"0 0 24 24\"\n",
              "       width=\"24px\">\n",
              "    <path d=\"M0 0h24v24H0V0z\" fill=\"none\"/>\n",
              "    <path d=\"M18.56 5.44l.94 2.06.94-2.06 2.06-.94-2.06-.94-.94-2.06-.94 2.06-2.06.94zm-11 1L8.5 8.5l.94-2.06 2.06-.94-2.06-.94L8.5 2.5l-.94 2.06-2.06.94zm10 10l.94 2.06.94-2.06 2.06-.94-2.06-.94-.94-2.06-.94 2.06-2.06.94z\"/><path d=\"M17.41 7.96l-1.37-1.37c-.4-.4-.92-.59-1.43-.59-.52 0-1.04.2-1.43.59L10.3 9.45l-7.72 7.72c-.78.78-.78 2.05 0 2.83L4 21.41c.39.39.9.59 1.41.59.51 0 1.02-.2 1.41-.59l7.78-7.78 2.81-2.81c.8-.78.8-2.07 0-2.86zM5.41 20L4 18.59l7.72-7.72 1.47 1.35L5.41 20z\"/>\n",
              "  </svg>\n",
              "      </button>\n",
              "      \n",
              "  <style>\n",
              "    .colab-df-container {\n",
              "      display:flex;\n",
              "      flex-wrap:wrap;\n",
              "      gap: 12px;\n",
              "    }\n",
              "\n",
              "    .colab-df-convert {\n",
              "      background-color: #E8F0FE;\n",
              "      border: none;\n",
              "      border-radius: 50%;\n",
              "      cursor: pointer;\n",
              "      display: none;\n",
              "      fill: #1967D2;\n",
              "      height: 32px;\n",
              "      padding: 0 0 0 0;\n",
              "      width: 32px;\n",
              "    }\n",
              "\n",
              "    .colab-df-convert:hover {\n",
              "      background-color: #E2EBFA;\n",
              "      box-shadow: 0px 1px 2px rgba(60, 64, 67, 0.3), 0px 1px 3px 1px rgba(60, 64, 67, 0.15);\n",
              "      fill: #174EA6;\n",
              "    }\n",
              "\n",
              "    [theme=dark] .colab-df-convert {\n",
              "      background-color: #3B4455;\n",
              "      fill: #D2E3FC;\n",
              "    }\n",
              "\n",
              "    [theme=dark] .colab-df-convert:hover {\n",
              "      background-color: #434B5C;\n",
              "      box-shadow: 0px 1px 3px 1px rgba(0, 0, 0, 0.15);\n",
              "      filter: drop-shadow(0px 1px 2px rgba(0, 0, 0, 0.3));\n",
              "      fill: #FFFFFF;\n",
              "    }\n",
              "  </style>\n",
              "\n",
              "      <script>\n",
              "        const buttonEl =\n",
              "          document.querySelector('#df-7b76bcb0-6538-4178-b2be-e11dcc87410a button.colab-df-convert');\n",
              "        buttonEl.style.display =\n",
              "          google.colab.kernel.accessAllowed ? 'block' : 'none';\n",
              "\n",
              "        async function convertToInteractive(key) {\n",
              "          const element = document.querySelector('#df-7b76bcb0-6538-4178-b2be-e11dcc87410a');\n",
              "          const dataTable =\n",
              "            await google.colab.kernel.invokeFunction('convertToInteractive',\n",
              "                                                     [key], {});\n",
              "          if (!dataTable) return;\n",
              "\n",
              "          const docLinkHtml = 'Like what you see? Visit the ' +\n",
              "            '<a target=\"_blank\" href=https://colab.research.google.com/notebooks/data_table.ipynb>data table notebook</a>'\n",
              "            + ' to learn more about interactive tables.';\n",
              "          element.innerHTML = '';\n",
              "          dataTable['output_type'] = 'display_data';\n",
              "          await google.colab.output.renderOutput(dataTable, element);\n",
              "          const docLink = document.createElement('div');\n",
              "          docLink.innerHTML = docLinkHtml;\n",
              "          element.appendChild(docLink);\n",
              "        }\n",
              "      </script>\n",
              "    </div>\n",
              "  </div>\n",
              "  "
            ],
            "text/plain": [
              "                      Dummy  Baseline\n",
              "Multi-label accuracy  0.000     0.521\n",
              "Binary accuracy       0.975     0.986\n",
              "Loss                  3.005     1.103\n",
              "Average Precision       NaN       NaN"
            ]
          },
          "execution_count": 29,
          "metadata": {},
          "output_type": "execute_result"
        }
      ],
      "source": [
        "# We take into account unigrams and bigrams that occur at least 10 times \n",
        "# in the train set, but less than 50 % of the time\n",
        "tfidf = TfidfVectorizer(min_df=10, max_df=0.5, ngram_range=(1, 2))\n",
        "\n",
        "# We set the (L2) regularization weight to 1/2 (inverse of C)\n",
        "classifier = OneVsRestClassifier(LogisticRegression(C=2., max_iter=1000))\n",
        "\n",
        "baseline = make_pipeline(tfidf, classifier)\n",
        "baseline.fit(train_texts, train_labels)\n",
        "\n",
        "y_prob = baseline.predict_proba(test_texts)\n",
        "\n",
        "evaluation[\"Baseline\"] = compute_metrics(test_labels, y_prob)\n",
        "evaluation"
      ]
    },
    {
      "cell_type": "code",
      "execution_count": null,
      "metadata": {
        "colab": {
          "base_uri": "https://localhost:8080/"
        },
        "id": "r8Yi0TTjUYP2",
        "outputId": "a5a5e0bd-b052-4c64-b913-b329560e780a"
      },
      "outputs": [
        {
          "name": "stdout",
          "output_type": "stream",
          "text": [
            "Transformers package version: 4.25.1\n"
          ]
        }
      ],
      "source": [
        "print(f\"Transformers package version: {transformers.__version__}\")"
      ]
    },
    {
      "cell_type": "code",
      "execution_count": null,
      "metadata": {
        "colab": {
          "base_uri": "https://localhost:8080/",
          "height": 164,
          "referenced_widgets": [
            "a53bbf57c6ff4bf29601cd14f1dfd154",
            "33779c84ec714b439089cbd606b630c5",
            "03d6abed43054eff98d625a926247d70",
            "82859c27e04842fe979ce0053b5ae6be",
            "0737efb7385343998cb9c308a693a2ba",
            "e713df9f24b4421d87c67732b56ef1eb",
            "fe788c80212044a38ed8b9ada90cf958",
            "ff9e12b897fc42dcb8979d63f6f971ac",
            "9218ea81c3c249338c1c2ab6070bdfc0",
            "b8acbd8cadf14a3dbc5440effe9014ba",
            "555b4654d0e34c55837b0b6be6557b7f",
            "ba9652aec0494ed78dfe2f1400fc91c1",
            "3a0a9498185546acbbc3e7922946254e",
            "735d1d638633450f87bd0c88448ad132",
            "da158c0664934f2a967994b1b3adc315",
            "be72e07d11fe44b1a55f1117d164b1f1",
            "4b7cc04657484d79968a8ff6fb9100b0",
            "950d3b6508b447eaa4af95bcb852192c",
            "3658f26ab2374d1ebb2d4b7677fbc478",
            "07854c2e3e87451b87bc233b98c89437",
            "ccc6d1c5fdcf47bdab41846854e1afbd",
            "7668e820ff6446e596ded5bd4eceec57",
            "71a303bdbb474e239a0b6f99b57226f2",
            "ff2384f24fd64e469511f13b9ccbae04",
            "0eaf7f21c31c476d98ef5d5d8ddf1a87",
            "ad1dc59afeb54049951b2098d9a859b6",
            "d4cfdb04be734b03b3329130e5da35ff",
            "59998abed9684177b6b93840b116a6b5",
            "00c85b8ad1ca47909311735c41d8aed4",
            "bad8a2b57b124e8792e911d5b9274a8b",
            "b908c508ec98442aa7e5bd40929dcadc",
            "07c20cefa71643b8b9d07eb729893b71",
            "f5d52cbbadff484d88824246129555c3",
            "e9f2cbf0c68c4da8b773b540f5f1af05",
            "8e644c0b3a874a73aee619cf945d55f3",
            "8249e54026e747c4a4883d2dd362d219",
            "d6fe237d8dbd44b58e67cc44c3f477b1",
            "2410efa9b0fe47708c59dd68c1f5bf67",
            "843313655b1d4c3cb3b60ee463e8d19a",
            "abe86617b54f4a33ac1ae09adb937918",
            "aead9264c3934ddaa947e6ffba6517e7",
            "b82566225ddd409a8484209dbcc220ba",
            "8aca3671937c492fbe7a8a027ddf6b1e",
            "adae1fa58e5547c782ab53d53d841b12"
          ]
        },
        "id": "tQ0V3OKxU3Da",
        "outputId": "22aaf730-e54f-4fff-93e2-77e204143bbf"
      },
      "outputs": [
        {
          "data": {
            "application/vnd.jupyter.widget-view+json": {
              "model_id": "a53bbf57c6ff4bf29601cd14f1dfd154",
              "version_major": 2,
              "version_minor": 0
            },
            "text/plain": [
              "Downloading:   0%|          | 0.00/466 [00:00<?, ?B/s]"
            ]
          },
          "metadata": {},
          "output_type": "display_data"
        },
        {
          "data": {
            "application/vnd.jupyter.widget-view+json": {
              "model_id": "ba9652aec0494ed78dfe2f1400fc91c1",
              "version_major": 2,
              "version_minor": 0
            },
            "text/plain": [
              "Downloading:   0%|          | 0.00/29.0 [00:00<?, ?B/s]"
            ]
          },
          "metadata": {},
          "output_type": "display_data"
        },
        {
          "data": {
            "application/vnd.jupyter.widget-view+json": {
              "model_id": "71a303bdbb474e239a0b6f99b57226f2",
              "version_major": 2,
              "version_minor": 0
            },
            "text/plain": [
              "Downloading:   0%|          | 0.00/996k [00:00<?, ?B/s]"
            ]
          },
          "metadata": {},
          "output_type": "display_data"
        },
        {
          "data": {
            "application/vnd.jupyter.widget-view+json": {
              "model_id": "e9f2cbf0c68c4da8b773b540f5f1af05",
              "version_major": 2,
              "version_minor": 0
            },
            "text/plain": [
              "Downloading:   0%|          | 0.00/1.96M [00:00<?, ?B/s]"
            ]
          },
          "metadata": {},
          "output_type": "display_data"
        },
        {
          "data": {
            "application/vnd.google.colaboratory.intrinsic+json": {
              "type": "string"
            },
            "text/plain": [
              "'[CLS] parte calle 2 alumbrado debido cayó bombillas... [SEP]'"
            ]
          },
          "execution_count": 36,
          "metadata": {},
          "output_type": "execute_result"
        }
      ],
      "source": [
        "MODEL_NAME = 'distilbert-base-multilingual-cased'\n",
        "MAX_LENGTH = 25  # We truncate anything after the 200-th word to speed up training\n",
        "\n",
        "# The configuration is not needed if you don't have to customize the \n",
        "# network architecture. Here we will need it to replacee the output of the model\n",
        "# with a multi-label prediction layer (i.e. sigmoid activations + binary cross-entropy\n",
        "# instead of softmax + categorical cross-entropy of multi-class classification)\n",
        "config = DistilBertConfig.from_pretrained(MODEL_NAME)\n",
        "\n",
        "tokenizer = DistilBertTokenizerFast.from_pretrained(MODEL_NAME)\n",
        "\n",
        "\n",
        "train_encodings = tokenizer(train_texts, truncation=True, padding=True, \n",
        "                            max_length=MAX_LENGTH, return_tensors=\"tf\")\n",
        "test_encodings = tokenizer(test_texts, truncation=True, padding=True, \n",
        "                           max_length=MAX_LENGTH, return_tensors=\"tf\")\n",
        "\n",
        "# Create TensorFlow datasets to feed the model for training and evaluation\n",
        "train_dataset = tf.data.Dataset.from_tensor_slices((dict(train_encodings), train_labels))\n",
        "test_dataset = tf.data.Dataset.from_tensor_slices((dict(test_encodings), test_labels))\n",
        "\n",
        "# Tokenizer output example\n",
        "#sample_text = \"parte calle 2 alumbrado debido cayó bombillas...\"\n",
        "#tokenizer.decode(tokenizer(sample_text)[\"input_ids\"])"
      ]
    },
    {
      "cell_type": "markdown",
      "metadata": {
        "id": "BZRSn14FV73Y"
      },
      "source": [
        "The \"[CLS]\" special token is prepended to each text and will be used for classification, and a \"[SEP]\" token is appended.\n",
        "\n",
        "Note that thanks to BERT adding customizable special tokens, you can also take into account custom vocabularies that maybe specific to your dataset (e.g. domain-specific tags, or unusual characters with a specific meaning). To do so, you just have to add the following line:\n",
        "\n",
        "tokenizer.add_special_tokens({\"additional_special_tokens\": [\"[unused1]\"]})\n",
        "\n",
        "and map your custom symbols to \"[unused1]\" (or \"[unused2]\", ..., up to \"[unused999]\"). We won't need it here."
      ]
    },
    {
      "cell_type": "code",
      "execution_count": null,
      "metadata": {
        "id": "SQYU71qKWhcn"
      },
      "outputs": [],
      "source": [
        "# So we will fine-tune ~134M parameters on our dataset. That may sound like a lot, \n",
        "# and one may be concerned with overfitting risks, but BERT has proven very robust to fine-tuning.\n"
      ]
    },
    {
      "cell_type": "markdown",
      "metadata": {
        "id": "hqsRbMCyZgF5"
      },
      "source": [
        "### Model training"
      ]
    },
    {
      "cell_type": "code",
      "execution_count": null,
      "metadata": {
        "colab": {
          "background_save": true,
          "base_uri": "https://localhost:8080/"
        },
        "id": "GF7xn0h8Zh_I",
        "outputId": "6061dc18-6a9b-408a-b103-83a012847511"
      },
      "outputs": [
        {
          "name": "stdout",
          "output_type": "stream",
          "text": [
            "Epoch 1/10\n",
            "795/795 [==============================] - 2630s 3s/step - loss: 0.0111 - multi_label_accuracy: 0.9155 - binary_accuracy: 0.9967 - average_precision: 0.8301 - val_loss: 0.0468 - val_multi_label_accuracy: 0.7057 - val_binary_accuracy: 0.9871 - val_average_precision: 0.4796\n",
            "Epoch 2/10\n",
            "795/795 [==============================] - 2632s 3s/step - loss: 0.0086 - multi_label_accuracy: 0.9386 - binary_accuracy: 0.9976 - average_precision: 0.8868 - val_loss: 0.0506 - val_multi_label_accuracy: 0.7078 - val_binary_accuracy: 0.9872 - val_average_precision: 0.4587\n",
            "Epoch 3/10\n",
            "795/795 [==============================] - 2609s 3s/step - loss: 0.0069 - multi_label_accuracy: 0.9519 - binary_accuracy: 0.9981 - average_precision: 0.9112 - val_loss: 0.0528 - val_multi_label_accuracy: 0.7075 - val_binary_accuracy: 0.9873 - val_average_precision: 0.4830\n",
            "Epoch 4/10\n",
            "795/795 [==============================] - 2593s 3s/step - loss: 0.0056 - multi_label_accuracy: 0.9613 - binary_accuracy: 0.9985 - average_precision: 0.9400 - val_loss: 0.0552 - val_multi_label_accuracy: 0.7122 - val_binary_accuracy: 0.9870 - val_average_precision: 0.4691\n",
            "Epoch 5/10\n",
            "795/795 [==============================] - 2548s 3s/step - loss: 0.0050 - multi_label_accuracy: 0.9632 - binary_accuracy: 0.9986 - average_precision: 0.9554 - val_loss: 0.0573 - val_multi_label_accuracy: 0.7070 - val_binary_accuracy: 0.9869 - val_average_precision: 0.4628\n",
            "Epoch 6/10\n",
            "795/795 [==============================] - 2583s 3s/step - loss: 0.0038 - multi_label_accuracy: 0.9731 - binary_accuracy: 0.9989 - average_precision: 0.9680 - val_loss: 0.0590 - val_multi_label_accuracy: 0.7170 - val_binary_accuracy: 0.9872 - val_average_precision: 0.4574\n",
            "Epoch 7/10\n",
            "795/795 [==============================] - 2526s 3s/step - loss: 0.0035 - multi_label_accuracy: 0.9746 - binary_accuracy: 0.9990 - average_precision: 0.9771 - val_loss: 0.0606 - val_multi_label_accuracy: 0.7163 - val_binary_accuracy: 0.9872 - val_average_precision: 0.4453\n",
            "Epoch 8/10\n",
            "795/795 [==============================] - 2533s 3s/step - loss: 0.0030 - multi_label_accuracy: 0.9785 - binary_accuracy: 0.9991 - average_precision: 0.9785 - val_loss: 0.0658 - val_multi_label_accuracy: 0.6979 - val_binary_accuracy: 0.9867 - val_average_precision: 0.4421\n",
            "Epoch 9/10\n",
            "795/795 [==============================] - 2535s 3s/step - loss: 0.0026 - multi_label_accuracy: 0.9807 - binary_accuracy: 0.9993 - average_precision: 0.9844 - val_loss: 0.0660 - val_multi_label_accuracy: 0.7064 - val_binary_accuracy: 0.9865 - val_average_precision: 0.4463\n",
            "Epoch 10/10\n",
            "795/795 [==============================] - 2594s 3s/step - loss: 0.0026 - multi_label_accuracy: 0.9817 - binary_accuracy: 0.9993 - average_precision: 0.9833 - val_loss: 0.0668 - val_multi_label_accuracy: 0.7043 - val_binary_accuracy: 0.9867 - val_average_precision: 0.4516\n"
          ]
        }
      ],
      "source": [
        "def multi_label_accuracy(y_true: tf.Tensor, y_pred: tf.Tensor) -> tf.Tensor:\n",
        "    \"\"\"For multi-label classification, one has to define a custom\n",
        "    acccuracy function because neither tf.keras.metrics.Accuracy nor\n",
        "    tf.keras.metrics.CategoricalAccuracy evaluate the number of \n",
        "    exact matches.\n",
        "\n",
        "    :Example:\n",
        "    >>> from tensorflow.keras import metrics\n",
        "    >>> y_true = tf.convert_to_tensor([[1., 1.]])\n",
        "    >>> y_pred = tf.convert_to_tensor([[1., 0.]])\n",
        "    >>> metrics.Accuracy()(y_true, y_pred).numpy()\n",
        "    0.5\n",
        "    >>> metrics.CategoricalAccuracy()(y_true, y_pred).numpy()\n",
        "    1.0\n",
        "    >>> multi_label_accuracy(y_true, y_pred).numpy()\n",
        "    0.0\n",
        "    \"\"\"   \n",
        "    y_pred = tf.math.round(y_pred)\n",
        "    exact_matches = tf.math.reduce_all(y_pred == y_true, axis=1)\n",
        "    exact_matches = tf.cast(exact_matches, tf.float32)\n",
        "    return tf.math.reduce_mean(exact_matches)\n"
      ]
    },
    {
      "cell_type": "markdown",
      "metadata": {
        "id": "-k3VEQHKmFHC"
      },
      "source": [
        "### Deployment and tracking"
      ]
    },
    {
      "cell_type": "markdown",
      "source": [
        "**Configure MLflow**"
      ],
      "metadata": {
        "id": "cQEhXDtUwYyE"
      }
    },
    {
      "cell_type": "code",
      "source": [
        "#!pip install mlflow --quiet\n",
        "mlflow_installed = !pip list -v | grep mlflow\n",
        "if not mlflow_installed:\n",
        "  print(\"Installing MLflow\")\n",
        "  !pip install mlflow --quiet\n",
        "\n",
        "import mlflow\n",
        "import requests\n",
        "import os\n",
        "from getpass import getpass\n",
        "import datetime"
      ],
      "metadata": {
        "id": "QODVOcR8LX6X"
      },
      "execution_count": null,
      "outputs": []
    },
    {
      "cell_type": "code",
      "source": [
        "#@title Enter the repository name for the project:\n",
        "\n",
        "REPO_NAME= \"VenApp-GroupProblems-AI\" #@param {type:\"string\"}"
      ],
      "metadata": {
        "id": "pJ6DAWiRwbIk"
      },
      "execution_count": null,
      "outputs": []
    },
    {
      "cell_type": "code",
      "source": [
        "#@title Enter the repository Owner for the project:\n",
        "\n",
        "REPO_OWNER= \"arbozaleon\" #@param {type:\"string\"}"
      ],
      "metadata": {
        "id": "ls_PC7HQxiUH"
      },
      "execution_count": null,
      "outputs": []
    },
    {
      "cell_type": "code",
      "source": [
        "#@title Enter the username of your DAGsHub account:\n",
        "\n",
        "USER_NAME = \"arbozaleon\" #@param {type:\"string\"}"
      ],
      "metadata": {
        "id": "qemRkbpfxiLG"
      },
      "execution_count": null,
      "outputs": []
    },
    {
      "cell_type": "markdown",
      "source": [
        "**Set Local Configurations**"
      ],
      "metadata": {
        "id": "Q6Zb5gTjz_U_"
      }
    },
    {
      "cell_type": "code",
      "execution_count": null,
      "metadata": {
        "id": "4JEA2ecrhd_3"
      },
      "outputs": [],
      "source": [
        "# start the mlflow ui\n",
        "#!mlflow ui"
      ]
    },
    {
      "cell_type": "code",
      "execution_count": null,
      "metadata": {
        "id": "5lbACtQgl_4V"
      },
      "outputs": [],
      "source": [
        "#@title Version Data and Code\n",
        "\n",
        "!pip install dvc"
      ]
    },
    {
      "cell_type": "markdown",
      "source": [
        "**Set Dagshub as remote storage**"
      ],
      "metadata": {
        "id": "GhpdI92N5PAD"
      }
    },
    {
      "cell_type": "code",
      "source": [
        "!dvc remote add origin https://dagshub.com/arbozaleon/VenApp-GroupProblems-AI.dvc"
      ],
      "metadata": {
        "id": "vbuJO-Fv4tMx"
      },
      "execution_count": null,
      "outputs": []
    },
    {
      "cell_type": "code",
      "source": [
        "import IPython"
      ],
      "metadata": {
        "id": "EDdCLZaR86zr"
      },
      "execution_count": null,
      "outputs": []
    },
    {
      "cell_type": "markdown",
      "source": [
        "## Configure a Tensorflow Model"
      ],
      "metadata": {
        "id": "p0Tj74fM9Q_Z"
      }
    },
    {
      "cell_type": "code",
      "source": [
        "transformer_model = TFDistilBertForSequenceClassification.from_pretrained(\n",
        "    MODEL_NAME, output_hidden_states=False\n",
        ")\n",
        "\n",
        "bert = transformer_model.layers[0]\n",
        "\n",
        "# The input is a dictionary of word identifiers \n",
        "input_ids = Input(shape=(MAX_LENGTH,), name='input_ids', dtype='int32')\n",
        "inputs = {'input_ids': input_ids}\n",
        "\n",
        "# Here we select the representation of the first token ([CLS]) for classification\n",
        "# (a.k.a. \"pooled representation\")\n",
        "bert_model = bert(inputs)[0][:, 0, :] \n",
        "\n",
        "# Add a dropout layer and the output layer\n",
        "dropout = Dropout(config.dropout, name='pooled_output')\n",
        "pooled_output = dropout(bert_model, training=False)\n",
        "output = Dense(\n",
        "    units=train_labels.shape[1],\n",
        "    kernel_initializer=TruncatedNormal(stddev=config.initializer_range), \n",
        "    activation=\"sigmoid\",  # Choose a sigmoid for multi-label classification\n",
        "    name='output'\n",
        ")(pooled_output)\n",
        "\n",
        "model = Model(inputs=inputs, outputs=output, name='BERT_MultiLabel')\n",
        "model.summary()"
      ],
      "metadata": {
        "id": "2VfgH0rr9RyN"
      },
      "execution_count": null,
      "outputs": []
    },
    {
      "cell_type": "code",
      "source": [
        "loss = BinaryCrossentropy()\n",
        "optimizer = Adam(5e-5)\n",
        "metrics = [\n",
        "    multi_label_accuracy,\n",
        "    \"binary_accuracy\", \n",
        "    AUC(name=\"average_precision\", curve=\"PR\", multi_label=True)\n",
        "]\n",
        " \n",
        "model.compile(optimizer=optimizer, loss=loss, metrics=metrics)\n",
        "training_history = model.fit(\n",
        "    train_dataset.shuffle(1000).batch(16), epochs=10, batch_size=16, \n",
        "    validation_data=test_dataset.batch(16)\n",
        ")"
      ],
      "metadata": {
        "id": "H8RtJxCS9a3v"
      },
      "execution_count": null,
      "outputs": []
    },
    {
      "cell_type": "markdown",
      "source": [
        "**Benchmark model with Dummy and LogReg**"
      ],
      "metadata": {
        "id": "-3hqdXkK4Acc"
      }
    },
    {
      "cell_type": "code",
      "source": [
        "benchmarks = model.evaluate(\n",
        "    test_dataset.batch(16), return_dict=True, batch_size=16\n",
        ")\n",
        "evaluation[\"DistillBERT\"] = [\n",
        "    benchmarks[k] for k in \n",
        "    [\"multi_label_accuracy\", \"binary_accuracy\", \"loss\", \"average_precision\"]\n",
        "]\n",
        "evaluation"
      ],
      "metadata": {
        "id": "zhjbumcg3xD7"
      },
      "execution_count": null,
      "outputs": []
    },
    {
      "cell_type": "markdown",
      "source": [
        "**Save Model**"
      ],
      "metadata": {
        "id": "bv1OJfVp4llb"
      }
    },
    {
      "cell_type": "code",
      "source": [
        "BASE_PATH = \"/content/drive/MyDrive/VENAPP_CLASIF_CASOS/MODEL_BERT\"\n",
        "\n",
        "if not os.path.exists(BASE_PATH):\n",
        "    os.makedirs(BASE_PATH)\n",
        "\n",
        "model.save(f\"{BASE_PATH}/fine_tuned_distilbert\")"
      ],
      "metadata": {
        "id": "IzcgH2lV3wxM"
      },
      "execution_count": null,
      "outputs": []
    },
    {
      "cell_type": "markdown",
      "source": [
        "**Inferencias**"
      ],
      "metadata": {
        "id": "NeZTgSpz5tv0"
      }
    },
    {
      "cell_type": "code",
      "source": [
        "# Mimicking a production scenario: load the model and tokenizer\n",
        "MAX_LENGTH = 25\n",
        "model = load_model(f\"{BASE_PATH}/fine_tuned_distilbert\", \n",
        "                   custom_objects={\"multi_label_accuracy\": multi_label_accuracy})\n",
        "tokenizer = DistilBertTokenizerFast.from_pretrained('distilbert-base-multilingual-cased')\n",
        "\n",
        "def score_text(text, model=model, tokenizer=tokenizer):\n",
        "    padded_encodings = tokenizer.encode_plus(\n",
        "        text,\n",
        "        max_length=MAX_LENGTH, # truncates if len(s) > max_length\n",
        "        return_token_type_ids=True,\n",
        "        return_attention_mask=True,\n",
        "        truncation=True,\n",
        "        padding='max_length',\n",
        "        return_tensors='tf'\n",
        "    )\n",
        "    return model(padded_encodings[\"input_ids\"]).numpy()\n",
        "\n",
        "score_text(\"dummy\")  # running a dummy prediction as a work-around the extra latency \n",
        "# of the first prediction of a loaded TensorFlow model.\n",
        "\n",
        "#text = \"\"\"Requerimos restablecer servicio eléctrico, se cayó un árbol y tumbó un poste\"\"\"\n",
        "\n",
        "#text = \"\"\"Vinieron a arreglar las aguas servidas y rompieron la tubería de gas, quedamos sin ese servicio\"\"\"\n",
        "\n",
        "#text = \"\"\"Necesito un trabajo, soy padre de familia desempleado\"\"\"\n",
        "\n",
        "# text = \"\"\"Quedamos sin ABA y sin línea, un árbol cayó y rompió cable\"\"\"\n",
        "\n",
        "#text = \"\"\"solicitud tensiómetros ambulatorios cdi hermanos ollarves reparación servicio rx \n",
        "#sra coromoto líquido revelador películas rx además ambulancia cdi cero\"\"\"\n",
        "\n",
        "# text = \"\"\"buenos días nuevamente tememos colapso cloaca\"\"\"\n",
        "\n",
        "text = \"\"\"llevamos varias horas a oscuras, al parecer a causa de caída de tabaco\"\"\"\n",
        "\n",
        "#text = \"\"\"nombre lucidio mujica ci 2543086 adulto mayor requiero unas prótesis dentales tel cont 04164523825\"\"\"\n",
        "# text = \"\"\"final av arismendi dinde encuentra escuela san vicente final callejon \n",
        "# hace falta buena asfaltada tambien estan afectados linea camionetas\"\"\"\n",
        "\n",
        "t0 = time()\n",
        "scores = score_text(text)[0]\n",
        "latency = time() - t0\n",
        "\n",
        "scores_pd = pd.Series(scores, label_names, name=\"scores\")\n",
        "\n",
        "# Find the maximum score\n",
        "max_score = scores_pd.max()\n",
        "\n",
        "# Find the text with the maximum score\n",
        "max_score_text = scores_pd[scores_pd == max_score].idxmax()\n",
        "result = max_score_text.split('-')\n",
        "\n",
        "#print(scores_pd.to_frame())\n",
        "#print(f\"Category: {max_score_text} \\nLatency: {latency:.3f} seconds\")\n",
        "print(f\"Category: {result[0]} \\nExtra-Category: {result[1]} \\nLatency: {latency:.3f} seconds\")"
      ],
      "metadata": {
        "id": "qj4mOYlh5t_E"
      },
      "execution_count": null,
      "outputs": []
    },
    {
      "cell_type": "markdown",
      "source": [
        "## Set MLflow Auto-Logging"
      ],
      "metadata": {
        "id": "JbMnBN9p9dw6"
      }
    },
    {
      "cell_type": "code",
      "source": [
        " mlflow.tensorflow.autolog()\n",
        " mlflow.log_param(\"task\",2)"
      ],
      "metadata": {
        "id": "u8f76Pd69hIb"
      },
      "execution_count": null,
      "outputs": []
    },
    {
      "cell_type": "markdown",
      "source": [
        "## See the Experiment Results - LIVE! 📳\n",
        "\n",
        "In this tab, you can see the results of the experiment while it's running!\n",
        "\n",
        "**Notice**: To update the experiment status, simply go back to the \"Experiment Tab\" and reopen the top experiment in the table."
      ],
      "metadata": {
        "id": "CVUblSZb9kwr"
      }
    },
    {
      "cell_type": "code",
      "source": [
        "display(IPython.display.IFrame(f\"https://dagshub.com/{REPO_OWNER}/{REPO_NAME}/experiments/#/\",'100%',600))"
      ],
      "metadata": {
        "id": "YodViaDW9pd2"
      },
      "execution_count": null,
      "outputs": []
    },
    {
      "cell_type": "markdown",
      "source": [
        "## Train the Model"
      ],
      "metadata": {
        "id": "Ewv5g0Na9xZj"
      }
    },
    {
      "cell_type": "code",
      "source": [
        "model.fit(X_train, y_train, batch_size= 32, validation_split=0.2, epochs=50,verbose=0)"
      ],
      "metadata": {
        "id": "z4CesIsw9s77"
      },
      "execution_count": null,
      "outputs": []
    }
  ],
  "metadata": {
    "colab": {
      "provenance": [],
      "authorship_tag": "ABX9TyPSnKqOuYyp+S1rPUUgBs75",
      "include_colab_link": true
    },
    "kernelspec": {
      "display_name": "Python 3",
      "name": "python3"
    },
    "language_info": {
      "name": "python"
    },
    "widgets": {
      "application/vnd.jupyter.widget-state+json": {
        "00c85b8ad1ca47909311735c41d8aed4": {
          "model_module": "@jupyter-widgets/controls",
          "model_module_version": "1.5.0",
          "model_name": "DescriptionStyleModel",
          "state": {
            "_model_module": "@jupyter-widgets/controls",
            "_model_module_version": "1.5.0",
            "_model_name": "DescriptionStyleModel",
            "_view_count": null,
            "_view_module": "@jupyter-widgets/base",
            "_view_module_version": "1.2.0",
            "_view_name": "StyleView",
            "description_width": ""
          }
        },
        "03d6abed43054eff98d625a926247d70": {
          "model_module": "@jupyter-widgets/controls",
          "model_module_version": "1.5.0",
          "model_name": "FloatProgressModel",
          "state": {
            "_dom_classes": [],
            "_model_module": "@jupyter-widgets/controls",
            "_model_module_version": "1.5.0",
            "_model_name": "FloatProgressModel",
            "_view_count": null,
            "_view_module": "@jupyter-widgets/controls",
            "_view_module_version": "1.5.0",
            "_view_name": "ProgressView",
            "bar_style": "success",
            "description": "",
            "description_tooltip": null,
            "layout": "IPY_MODEL_ff9e12b897fc42dcb8979d63f6f971ac",
            "max": 466,
            "min": 0,
            "orientation": "horizontal",
            "style": "IPY_MODEL_9218ea81c3c249338c1c2ab6070bdfc0",
            "value": 466
          }
        },
        "0737efb7385343998cb9c308a693a2ba": {
          "model_module": "@jupyter-widgets/base",
          "model_module_version": "1.2.0",
          "model_name": "LayoutModel",
          "state": {
            "_model_module": "@jupyter-widgets/base",
            "_model_module_version": "1.2.0",
            "_model_name": "LayoutModel",
            "_view_count": null,
            "_view_module": "@jupyter-widgets/base",
            "_view_module_version": "1.2.0",
            "_view_name": "LayoutView",
            "align_content": null,
            "align_items": null,
            "align_self": null,
            "border": null,
            "bottom": null,
            "display": null,
            "flex": null,
            "flex_flow": null,
            "grid_area": null,
            "grid_auto_columns": null,
            "grid_auto_flow": null,
            "grid_auto_rows": null,
            "grid_column": null,
            "grid_gap": null,
            "grid_row": null,
            "grid_template_areas": null,
            "grid_template_columns": null,
            "grid_template_rows": null,
            "height": null,
            "justify_content": null,
            "justify_items": null,
            "left": null,
            "margin": null,
            "max_height": null,
            "max_width": null,
            "min_height": null,
            "min_width": null,
            "object_fit": null,
            "object_position": null,
            "order": null,
            "overflow": null,
            "overflow_x": null,
            "overflow_y": null,
            "padding": null,
            "right": null,
            "top": null,
            "visibility": null,
            "width": null
          }
        },
        "07854c2e3e87451b87bc233b98c89437": {
          "model_module": "@jupyter-widgets/controls",
          "model_module_version": "1.5.0",
          "model_name": "ProgressStyleModel",
          "state": {
            "_model_module": "@jupyter-widgets/controls",
            "_model_module_version": "1.5.0",
            "_model_name": "ProgressStyleModel",
            "_view_count": null,
            "_view_module": "@jupyter-widgets/base",
            "_view_module_version": "1.2.0",
            "_view_name": "StyleView",
            "bar_color": null,
            "description_width": ""
          }
        },
        "07c20cefa71643b8b9d07eb729893b71": {
          "model_module": "@jupyter-widgets/base",
          "model_module_version": "1.2.0",
          "model_name": "LayoutModel",
          "state": {
            "_model_module": "@jupyter-widgets/base",
            "_model_module_version": "1.2.0",
            "_model_name": "LayoutModel",
            "_view_count": null,
            "_view_module": "@jupyter-widgets/base",
            "_view_module_version": "1.2.0",
            "_view_name": "LayoutView",
            "align_content": null,
            "align_items": null,
            "align_self": null,
            "border": null,
            "bottom": null,
            "display": null,
            "flex": null,
            "flex_flow": null,
            "grid_area": null,
            "grid_auto_columns": null,
            "grid_auto_flow": null,
            "grid_auto_rows": null,
            "grid_column": null,
            "grid_gap": null,
            "grid_row": null,
            "grid_template_areas": null,
            "grid_template_columns": null,
            "grid_template_rows": null,
            "height": null,
            "justify_content": null,
            "justify_items": null,
            "left": null,
            "margin": null,
            "max_height": null,
            "max_width": null,
            "min_height": null,
            "min_width": null,
            "object_fit": null,
            "object_position": null,
            "order": null,
            "overflow": null,
            "overflow_x": null,
            "overflow_y": null,
            "padding": null,
            "right": null,
            "top": null,
            "visibility": null,
            "width": null
          }
        },
        "0eaf7f21c31c476d98ef5d5d8ddf1a87": {
          "model_module": "@jupyter-widgets/controls",
          "model_module_version": "1.5.0",
          "model_name": "FloatProgressModel",
          "state": {
            "_dom_classes": [],
            "_model_module": "@jupyter-widgets/controls",
            "_model_module_version": "1.5.0",
            "_model_name": "FloatProgressModel",
            "_view_count": null,
            "_view_module": "@jupyter-widgets/controls",
            "_view_module_version": "1.5.0",
            "_view_name": "ProgressView",
            "bar_style": "success",
            "description": "",
            "description_tooltip": null,
            "layout": "IPY_MODEL_bad8a2b57b124e8792e911d5b9274a8b",
            "max": 995526,
            "min": 0,
            "orientation": "horizontal",
            "style": "IPY_MODEL_b908c508ec98442aa7e5bd40929dcadc",
            "value": 995526
          }
        },
        "2410efa9b0fe47708c59dd68c1f5bf67": {
          "model_module": "@jupyter-widgets/base",
          "model_module_version": "1.2.0",
          "model_name": "LayoutModel",
          "state": {
            "_model_module": "@jupyter-widgets/base",
            "_model_module_version": "1.2.0",
            "_model_name": "LayoutModel",
            "_view_count": null,
            "_view_module": "@jupyter-widgets/base",
            "_view_module_version": "1.2.0",
            "_view_name": "LayoutView",
            "align_content": null,
            "align_items": null,
            "align_self": null,
            "border": null,
            "bottom": null,
            "display": null,
            "flex": null,
            "flex_flow": null,
            "grid_area": null,
            "grid_auto_columns": null,
            "grid_auto_flow": null,
            "grid_auto_rows": null,
            "grid_column": null,
            "grid_gap": null,
            "grid_row": null,
            "grid_template_areas": null,
            "grid_template_columns": null,
            "grid_template_rows": null,
            "height": null,
            "justify_content": null,
            "justify_items": null,
            "left": null,
            "margin": null,
            "max_height": null,
            "max_width": null,
            "min_height": null,
            "min_width": null,
            "object_fit": null,
            "object_position": null,
            "order": null,
            "overflow": null,
            "overflow_x": null,
            "overflow_y": null,
            "padding": null,
            "right": null,
            "top": null,
            "visibility": null,
            "width": null
          }
        },
        "33779c84ec714b439089cbd606b630c5": {
          "model_module": "@jupyter-widgets/controls",
          "model_module_version": "1.5.0",
          "model_name": "HTMLModel",
          "state": {
            "_dom_classes": [],
            "_model_module": "@jupyter-widgets/controls",
            "_model_module_version": "1.5.0",
            "_model_name": "HTMLModel",
            "_view_count": null,
            "_view_module": "@jupyter-widgets/controls",
            "_view_module_version": "1.5.0",
            "_view_name": "HTMLView",
            "description": "",
            "description_tooltip": null,
            "layout": "IPY_MODEL_e713df9f24b4421d87c67732b56ef1eb",
            "placeholder": "​",
            "style": "IPY_MODEL_fe788c80212044a38ed8b9ada90cf958",
            "value": "Downloading: 100%"
          }
        },
        "3658f26ab2374d1ebb2d4b7677fbc478": {
          "model_module": "@jupyter-widgets/base",
          "model_module_version": "1.2.0",
          "model_name": "LayoutModel",
          "state": {
            "_model_module": "@jupyter-widgets/base",
            "_model_module_version": "1.2.0",
            "_model_name": "LayoutModel",
            "_view_count": null,
            "_view_module": "@jupyter-widgets/base",
            "_view_module_version": "1.2.0",
            "_view_name": "LayoutView",
            "align_content": null,
            "align_items": null,
            "align_self": null,
            "border": null,
            "bottom": null,
            "display": null,
            "flex": null,
            "flex_flow": null,
            "grid_area": null,
            "grid_auto_columns": null,
            "grid_auto_flow": null,
            "grid_auto_rows": null,
            "grid_column": null,
            "grid_gap": null,
            "grid_row": null,
            "grid_template_areas": null,
            "grid_template_columns": null,
            "grid_template_rows": null,
            "height": null,
            "justify_content": null,
            "justify_items": null,
            "left": null,
            "margin": null,
            "max_height": null,
            "max_width": null,
            "min_height": null,
            "min_width": null,
            "object_fit": null,
            "object_position": null,
            "order": null,
            "overflow": null,
            "overflow_x": null,
            "overflow_y": null,
            "padding": null,
            "right": null,
            "top": null,
            "visibility": null,
            "width": null
          }
        },
        "3a0a9498185546acbbc3e7922946254e": {
          "model_module": "@jupyter-widgets/controls",
          "model_module_version": "1.5.0",
          "model_name": "HTMLModel",
          "state": {
            "_dom_classes": [],
            "_model_module": "@jupyter-widgets/controls",
            "_model_module_version": "1.5.0",
            "_model_name": "HTMLModel",
            "_view_count": null,
            "_view_module": "@jupyter-widgets/controls",
            "_view_module_version": "1.5.0",
            "_view_name": "HTMLView",
            "description": "",
            "description_tooltip": null,
            "layout": "IPY_MODEL_4b7cc04657484d79968a8ff6fb9100b0",
            "placeholder": "​",
            "style": "IPY_MODEL_950d3b6508b447eaa4af95bcb852192c",
            "value": "Downloading: 100%"
          }
        },
        "4b7cc04657484d79968a8ff6fb9100b0": {
          "model_module": "@jupyter-widgets/base",
          "model_module_version": "1.2.0",
          "model_name": "LayoutModel",
          "state": {
            "_model_module": "@jupyter-widgets/base",
            "_model_module_version": "1.2.0",
            "_model_name": "LayoutModel",
            "_view_count": null,
            "_view_module": "@jupyter-widgets/base",
            "_view_module_version": "1.2.0",
            "_view_name": "LayoutView",
            "align_content": null,
            "align_items": null,
            "align_self": null,
            "border": null,
            "bottom": null,
            "display": null,
            "flex": null,
            "flex_flow": null,
            "grid_area": null,
            "grid_auto_columns": null,
            "grid_auto_flow": null,
            "grid_auto_rows": null,
            "grid_column": null,
            "grid_gap": null,
            "grid_row": null,
            "grid_template_areas": null,
            "grid_template_columns": null,
            "grid_template_rows": null,
            "height": null,
            "justify_content": null,
            "justify_items": null,
            "left": null,
            "margin": null,
            "max_height": null,
            "max_width": null,
            "min_height": null,
            "min_width": null,
            "object_fit": null,
            "object_position": null,
            "order": null,
            "overflow": null,
            "overflow_x": null,
            "overflow_y": null,
            "padding": null,
            "right": null,
            "top": null,
            "visibility": null,
            "width": null
          }
        },
        "555b4654d0e34c55837b0b6be6557b7f": {
          "model_module": "@jupyter-widgets/controls",
          "model_module_version": "1.5.0",
          "model_name": "DescriptionStyleModel",
          "state": {
            "_model_module": "@jupyter-widgets/controls",
            "_model_module_version": "1.5.0",
            "_model_name": "DescriptionStyleModel",
            "_view_count": null,
            "_view_module": "@jupyter-widgets/base",
            "_view_module_version": "1.2.0",
            "_view_name": "StyleView",
            "description_width": ""
          }
        },
        "59998abed9684177b6b93840b116a6b5": {
          "model_module": "@jupyter-widgets/base",
          "model_module_version": "1.2.0",
          "model_name": "LayoutModel",
          "state": {
            "_model_module": "@jupyter-widgets/base",
            "_model_module_version": "1.2.0",
            "_model_name": "LayoutModel",
            "_view_count": null,
            "_view_module": "@jupyter-widgets/base",
            "_view_module_version": "1.2.0",
            "_view_name": "LayoutView",
            "align_content": null,
            "align_items": null,
            "align_self": null,
            "border": null,
            "bottom": null,
            "display": null,
            "flex": null,
            "flex_flow": null,
            "grid_area": null,
            "grid_auto_columns": null,
            "grid_auto_flow": null,
            "grid_auto_rows": null,
            "grid_column": null,
            "grid_gap": null,
            "grid_row": null,
            "grid_template_areas": null,
            "grid_template_columns": null,
            "grid_template_rows": null,
            "height": null,
            "justify_content": null,
            "justify_items": null,
            "left": null,
            "margin": null,
            "max_height": null,
            "max_width": null,
            "min_height": null,
            "min_width": null,
            "object_fit": null,
            "object_position": null,
            "order": null,
            "overflow": null,
            "overflow_x": null,
            "overflow_y": null,
            "padding": null,
            "right": null,
            "top": null,
            "visibility": null,
            "width": null
          }
        },
        "71a303bdbb474e239a0b6f99b57226f2": {
          "model_module": "@jupyter-widgets/controls",
          "model_module_version": "1.5.0",
          "model_name": "HBoxModel",
          "state": {
            "_dom_classes": [],
            "_model_module": "@jupyter-widgets/controls",
            "_model_module_version": "1.5.0",
            "_model_name": "HBoxModel",
            "_view_count": null,
            "_view_module": "@jupyter-widgets/controls",
            "_view_module_version": "1.5.0",
            "_view_name": "HBoxView",
            "box_style": "",
            "children": [
              "IPY_MODEL_ff2384f24fd64e469511f13b9ccbae04",
              "IPY_MODEL_0eaf7f21c31c476d98ef5d5d8ddf1a87",
              "IPY_MODEL_ad1dc59afeb54049951b2098d9a859b6"
            ],
            "layout": "IPY_MODEL_d4cfdb04be734b03b3329130e5da35ff"
          }
        },
        "735d1d638633450f87bd0c88448ad132": {
          "model_module": "@jupyter-widgets/controls",
          "model_module_version": "1.5.0",
          "model_name": "FloatProgressModel",
          "state": {
            "_dom_classes": [],
            "_model_module": "@jupyter-widgets/controls",
            "_model_module_version": "1.5.0",
            "_model_name": "FloatProgressModel",
            "_view_count": null,
            "_view_module": "@jupyter-widgets/controls",
            "_view_module_version": "1.5.0",
            "_view_name": "ProgressView",
            "bar_style": "success",
            "description": "",
            "description_tooltip": null,
            "layout": "IPY_MODEL_3658f26ab2374d1ebb2d4b7677fbc478",
            "max": 29,
            "min": 0,
            "orientation": "horizontal",
            "style": "IPY_MODEL_07854c2e3e87451b87bc233b98c89437",
            "value": 29
          }
        },
        "7668e820ff6446e596ded5bd4eceec57": {
          "model_module": "@jupyter-widgets/controls",
          "model_module_version": "1.5.0",
          "model_name": "DescriptionStyleModel",
          "state": {
            "_model_module": "@jupyter-widgets/controls",
            "_model_module_version": "1.5.0",
            "_model_name": "DescriptionStyleModel",
            "_view_count": null,
            "_view_module": "@jupyter-widgets/base",
            "_view_module_version": "1.2.0",
            "_view_name": "StyleView",
            "description_width": ""
          }
        },
        "8249e54026e747c4a4883d2dd362d219": {
          "model_module": "@jupyter-widgets/controls",
          "model_module_version": "1.5.0",
          "model_name": "FloatProgressModel",
          "state": {
            "_dom_classes": [],
            "_model_module": "@jupyter-widgets/controls",
            "_model_module_version": "1.5.0",
            "_model_name": "FloatProgressModel",
            "_view_count": null,
            "_view_module": "@jupyter-widgets/controls",
            "_view_module_version": "1.5.0",
            "_view_name": "ProgressView",
            "bar_style": "success",
            "description": "",
            "description_tooltip": null,
            "layout": "IPY_MODEL_aead9264c3934ddaa947e6ffba6517e7",
            "max": 1961828,
            "min": 0,
            "orientation": "horizontal",
            "style": "IPY_MODEL_b82566225ddd409a8484209dbcc220ba",
            "value": 1961828
          }
        },
        "82859c27e04842fe979ce0053b5ae6be": {
          "model_module": "@jupyter-widgets/controls",
          "model_module_version": "1.5.0",
          "model_name": "HTMLModel",
          "state": {
            "_dom_classes": [],
            "_model_module": "@jupyter-widgets/controls",
            "_model_module_version": "1.5.0",
            "_model_name": "HTMLModel",
            "_view_count": null,
            "_view_module": "@jupyter-widgets/controls",
            "_view_module_version": "1.5.0",
            "_view_name": "HTMLView",
            "description": "",
            "description_tooltip": null,
            "layout": "IPY_MODEL_b8acbd8cadf14a3dbc5440effe9014ba",
            "placeholder": "​",
            "style": "IPY_MODEL_555b4654d0e34c55837b0b6be6557b7f",
            "value": " 466/466 [00:00&lt;00:00, 14.7kB/s]"
          }
        },
        "843313655b1d4c3cb3b60ee463e8d19a": {
          "model_module": "@jupyter-widgets/base",
          "model_module_version": "1.2.0",
          "model_name": "LayoutModel",
          "state": {
            "_model_module": "@jupyter-widgets/base",
            "_model_module_version": "1.2.0",
            "_model_name": "LayoutModel",
            "_view_count": null,
            "_view_module": "@jupyter-widgets/base",
            "_view_module_version": "1.2.0",
            "_view_name": "LayoutView",
            "align_content": null,
            "align_items": null,
            "align_self": null,
            "border": null,
            "bottom": null,
            "display": null,
            "flex": null,
            "flex_flow": null,
            "grid_area": null,
            "grid_auto_columns": null,
            "grid_auto_flow": null,
            "grid_auto_rows": null,
            "grid_column": null,
            "grid_gap": null,
            "grid_row": null,
            "grid_template_areas": null,
            "grid_template_columns": null,
            "grid_template_rows": null,
            "height": null,
            "justify_content": null,
            "justify_items": null,
            "left": null,
            "margin": null,
            "max_height": null,
            "max_width": null,
            "min_height": null,
            "min_width": null,
            "object_fit": null,
            "object_position": null,
            "order": null,
            "overflow": null,
            "overflow_x": null,
            "overflow_y": null,
            "padding": null,
            "right": null,
            "top": null,
            "visibility": null,
            "width": null
          }
        },
        "8aca3671937c492fbe7a8a027ddf6b1e": {
          "model_module": "@jupyter-widgets/base",
          "model_module_version": "1.2.0",
          "model_name": "LayoutModel",
          "state": {
            "_model_module": "@jupyter-widgets/base",
            "_model_module_version": "1.2.0",
            "_model_name": "LayoutModel",
            "_view_count": null,
            "_view_module": "@jupyter-widgets/base",
            "_view_module_version": "1.2.0",
            "_view_name": "LayoutView",
            "align_content": null,
            "align_items": null,
            "align_self": null,
            "border": null,
            "bottom": null,
            "display": null,
            "flex": null,
            "flex_flow": null,
            "grid_area": null,
            "grid_auto_columns": null,
            "grid_auto_flow": null,
            "grid_auto_rows": null,
            "grid_column": null,
            "grid_gap": null,
            "grid_row": null,
            "grid_template_areas": null,
            "grid_template_columns": null,
            "grid_template_rows": null,
            "height": null,
            "justify_content": null,
            "justify_items": null,
            "left": null,
            "margin": null,
            "max_height": null,
            "max_width": null,
            "min_height": null,
            "min_width": null,
            "object_fit": null,
            "object_position": null,
            "order": null,
            "overflow": null,
            "overflow_x": null,
            "overflow_y": null,
            "padding": null,
            "right": null,
            "top": null,
            "visibility": null,
            "width": null
          }
        },
        "8e644c0b3a874a73aee619cf945d55f3": {
          "model_module": "@jupyter-widgets/controls",
          "model_module_version": "1.5.0",
          "model_name": "HTMLModel",
          "state": {
            "_dom_classes": [],
            "_model_module": "@jupyter-widgets/controls",
            "_model_module_version": "1.5.0",
            "_model_name": "HTMLModel",
            "_view_count": null,
            "_view_module": "@jupyter-widgets/controls",
            "_view_module_version": "1.5.0",
            "_view_name": "HTMLView",
            "description": "",
            "description_tooltip": null,
            "layout": "IPY_MODEL_843313655b1d4c3cb3b60ee463e8d19a",
            "placeholder": "​",
            "style": "IPY_MODEL_abe86617b54f4a33ac1ae09adb937918",
            "value": "Downloading: 100%"
          }
        },
        "9218ea81c3c249338c1c2ab6070bdfc0": {
          "model_module": "@jupyter-widgets/controls",
          "model_module_version": "1.5.0",
          "model_name": "ProgressStyleModel",
          "state": {
            "_model_module": "@jupyter-widgets/controls",
            "_model_module_version": "1.5.0",
            "_model_name": "ProgressStyleModel",
            "_view_count": null,
            "_view_module": "@jupyter-widgets/base",
            "_view_module_version": "1.2.0",
            "_view_name": "StyleView",
            "bar_color": null,
            "description_width": ""
          }
        },
        "950d3b6508b447eaa4af95bcb852192c": {
          "model_module": "@jupyter-widgets/controls",
          "model_module_version": "1.5.0",
          "model_name": "DescriptionStyleModel",
          "state": {
            "_model_module": "@jupyter-widgets/controls",
            "_model_module_version": "1.5.0",
            "_model_name": "DescriptionStyleModel",
            "_view_count": null,
            "_view_module": "@jupyter-widgets/base",
            "_view_module_version": "1.2.0",
            "_view_name": "StyleView",
            "description_width": ""
          }
        },
        "a53bbf57c6ff4bf29601cd14f1dfd154": {
          "model_module": "@jupyter-widgets/controls",
          "model_module_version": "1.5.0",
          "model_name": "HBoxModel",
          "state": {
            "_dom_classes": [],
            "_model_module": "@jupyter-widgets/controls",
            "_model_module_version": "1.5.0",
            "_model_name": "HBoxModel",
            "_view_count": null,
            "_view_module": "@jupyter-widgets/controls",
            "_view_module_version": "1.5.0",
            "_view_name": "HBoxView",
            "box_style": "",
            "children": [
              "IPY_MODEL_33779c84ec714b439089cbd606b630c5",
              "IPY_MODEL_03d6abed43054eff98d625a926247d70",
              "IPY_MODEL_82859c27e04842fe979ce0053b5ae6be"
            ],
            "layout": "IPY_MODEL_0737efb7385343998cb9c308a693a2ba"
          }
        },
        "abe86617b54f4a33ac1ae09adb937918": {
          "model_module": "@jupyter-widgets/controls",
          "model_module_version": "1.5.0",
          "model_name": "DescriptionStyleModel",
          "state": {
            "_model_module": "@jupyter-widgets/controls",
            "_model_module_version": "1.5.0",
            "_model_name": "DescriptionStyleModel",
            "_view_count": null,
            "_view_module": "@jupyter-widgets/base",
            "_view_module_version": "1.2.0",
            "_view_name": "StyleView",
            "description_width": ""
          }
        },
        "ad1dc59afeb54049951b2098d9a859b6": {
          "model_module": "@jupyter-widgets/controls",
          "model_module_version": "1.5.0",
          "model_name": "HTMLModel",
          "state": {
            "_dom_classes": [],
            "_model_module": "@jupyter-widgets/controls",
            "_model_module_version": "1.5.0",
            "_model_name": "HTMLModel",
            "_view_count": null,
            "_view_module": "@jupyter-widgets/controls",
            "_view_module_version": "1.5.0",
            "_view_name": "HTMLView",
            "description": "",
            "description_tooltip": null,
            "layout": "IPY_MODEL_07c20cefa71643b8b9d07eb729893b71",
            "placeholder": "​",
            "style": "IPY_MODEL_f5d52cbbadff484d88824246129555c3",
            "value": " 996k/996k [00:00&lt;00:00, 2.79MB/s]"
          }
        },
        "adae1fa58e5547c782ab53d53d841b12": {
          "model_module": "@jupyter-widgets/controls",
          "model_module_version": "1.5.0",
          "model_name": "DescriptionStyleModel",
          "state": {
            "_model_module": "@jupyter-widgets/controls",
            "_model_module_version": "1.5.0",
            "_model_name": "DescriptionStyleModel",
            "_view_count": null,
            "_view_module": "@jupyter-widgets/base",
            "_view_module_version": "1.2.0",
            "_view_name": "StyleView",
            "description_width": ""
          }
        },
        "aead9264c3934ddaa947e6ffba6517e7": {
          "model_module": "@jupyter-widgets/base",
          "model_module_version": "1.2.0",
          "model_name": "LayoutModel",
          "state": {
            "_model_module": "@jupyter-widgets/base",
            "_model_module_version": "1.2.0",
            "_model_name": "LayoutModel",
            "_view_count": null,
            "_view_module": "@jupyter-widgets/base",
            "_view_module_version": "1.2.0",
            "_view_name": "LayoutView",
            "align_content": null,
            "align_items": null,
            "align_self": null,
            "border": null,
            "bottom": null,
            "display": null,
            "flex": null,
            "flex_flow": null,
            "grid_area": null,
            "grid_auto_columns": null,
            "grid_auto_flow": null,
            "grid_auto_rows": null,
            "grid_column": null,
            "grid_gap": null,
            "grid_row": null,
            "grid_template_areas": null,
            "grid_template_columns": null,
            "grid_template_rows": null,
            "height": null,
            "justify_content": null,
            "justify_items": null,
            "left": null,
            "margin": null,
            "max_height": null,
            "max_width": null,
            "min_height": null,
            "min_width": null,
            "object_fit": null,
            "object_position": null,
            "order": null,
            "overflow": null,
            "overflow_x": null,
            "overflow_y": null,
            "padding": null,
            "right": null,
            "top": null,
            "visibility": null,
            "width": null
          }
        },
        "b82566225ddd409a8484209dbcc220ba": {
          "model_module": "@jupyter-widgets/controls",
          "model_module_version": "1.5.0",
          "model_name": "ProgressStyleModel",
          "state": {
            "_model_module": "@jupyter-widgets/controls",
            "_model_module_version": "1.5.0",
            "_model_name": "ProgressStyleModel",
            "_view_count": null,
            "_view_module": "@jupyter-widgets/base",
            "_view_module_version": "1.2.0",
            "_view_name": "StyleView",
            "bar_color": null,
            "description_width": ""
          }
        },
        "b8acbd8cadf14a3dbc5440effe9014ba": {
          "model_module": "@jupyter-widgets/base",
          "model_module_version": "1.2.0",
          "model_name": "LayoutModel",
          "state": {
            "_model_module": "@jupyter-widgets/base",
            "_model_module_version": "1.2.0",
            "_model_name": "LayoutModel",
            "_view_count": null,
            "_view_module": "@jupyter-widgets/base",
            "_view_module_version": "1.2.0",
            "_view_name": "LayoutView",
            "align_content": null,
            "align_items": null,
            "align_self": null,
            "border": null,
            "bottom": null,
            "display": null,
            "flex": null,
            "flex_flow": null,
            "grid_area": null,
            "grid_auto_columns": null,
            "grid_auto_flow": null,
            "grid_auto_rows": null,
            "grid_column": null,
            "grid_gap": null,
            "grid_row": null,
            "grid_template_areas": null,
            "grid_template_columns": null,
            "grid_template_rows": null,
            "height": null,
            "justify_content": null,
            "justify_items": null,
            "left": null,
            "margin": null,
            "max_height": null,
            "max_width": null,
            "min_height": null,
            "min_width": null,
            "object_fit": null,
            "object_position": null,
            "order": null,
            "overflow": null,
            "overflow_x": null,
            "overflow_y": null,
            "padding": null,
            "right": null,
            "top": null,
            "visibility": null,
            "width": null
          }
        },
        "b908c508ec98442aa7e5bd40929dcadc": {
          "model_module": "@jupyter-widgets/controls",
          "model_module_version": "1.5.0",
          "model_name": "ProgressStyleModel",
          "state": {
            "_model_module": "@jupyter-widgets/controls",
            "_model_module_version": "1.5.0",
            "_model_name": "ProgressStyleModel",
            "_view_count": null,
            "_view_module": "@jupyter-widgets/base",
            "_view_module_version": "1.2.0",
            "_view_name": "StyleView",
            "bar_color": null,
            "description_width": ""
          }
        },
        "ba9652aec0494ed78dfe2f1400fc91c1": {
          "model_module": "@jupyter-widgets/controls",
          "model_module_version": "1.5.0",
          "model_name": "HBoxModel",
          "state": {
            "_dom_classes": [],
            "_model_module": "@jupyter-widgets/controls",
            "_model_module_version": "1.5.0",
            "_model_name": "HBoxModel",
            "_view_count": null,
            "_view_module": "@jupyter-widgets/controls",
            "_view_module_version": "1.5.0",
            "_view_name": "HBoxView",
            "box_style": "",
            "children": [
              "IPY_MODEL_3a0a9498185546acbbc3e7922946254e",
              "IPY_MODEL_735d1d638633450f87bd0c88448ad132",
              "IPY_MODEL_da158c0664934f2a967994b1b3adc315"
            ],
            "layout": "IPY_MODEL_be72e07d11fe44b1a55f1117d164b1f1"
          }
        },
        "bad8a2b57b124e8792e911d5b9274a8b": {
          "model_module": "@jupyter-widgets/base",
          "model_module_version": "1.2.0",
          "model_name": "LayoutModel",
          "state": {
            "_model_module": "@jupyter-widgets/base",
            "_model_module_version": "1.2.0",
            "_model_name": "LayoutModel",
            "_view_count": null,
            "_view_module": "@jupyter-widgets/base",
            "_view_module_version": "1.2.0",
            "_view_name": "LayoutView",
            "align_content": null,
            "align_items": null,
            "align_self": null,
            "border": null,
            "bottom": null,
            "display": null,
            "flex": null,
            "flex_flow": null,
            "grid_area": null,
            "grid_auto_columns": null,
            "grid_auto_flow": null,
            "grid_auto_rows": null,
            "grid_column": null,
            "grid_gap": null,
            "grid_row": null,
            "grid_template_areas": null,
            "grid_template_columns": null,
            "grid_template_rows": null,
            "height": null,
            "justify_content": null,
            "justify_items": null,
            "left": null,
            "margin": null,
            "max_height": null,
            "max_width": null,
            "min_height": null,
            "min_width": null,
            "object_fit": null,
            "object_position": null,
            "order": null,
            "overflow": null,
            "overflow_x": null,
            "overflow_y": null,
            "padding": null,
            "right": null,
            "top": null,
            "visibility": null,
            "width": null
          }
        },
        "be72e07d11fe44b1a55f1117d164b1f1": {
          "model_module": "@jupyter-widgets/base",
          "model_module_version": "1.2.0",
          "model_name": "LayoutModel",
          "state": {
            "_model_module": "@jupyter-widgets/base",
            "_model_module_version": "1.2.0",
            "_model_name": "LayoutModel",
            "_view_count": null,
            "_view_module": "@jupyter-widgets/base",
            "_view_module_version": "1.2.0",
            "_view_name": "LayoutView",
            "align_content": null,
            "align_items": null,
            "align_self": null,
            "border": null,
            "bottom": null,
            "display": null,
            "flex": null,
            "flex_flow": null,
            "grid_area": null,
            "grid_auto_columns": null,
            "grid_auto_flow": null,
            "grid_auto_rows": null,
            "grid_column": null,
            "grid_gap": null,
            "grid_row": null,
            "grid_template_areas": null,
            "grid_template_columns": null,
            "grid_template_rows": null,
            "height": null,
            "justify_content": null,
            "justify_items": null,
            "left": null,
            "margin": null,
            "max_height": null,
            "max_width": null,
            "min_height": null,
            "min_width": null,
            "object_fit": null,
            "object_position": null,
            "order": null,
            "overflow": null,
            "overflow_x": null,
            "overflow_y": null,
            "padding": null,
            "right": null,
            "top": null,
            "visibility": null,
            "width": null
          }
        },
        "ccc6d1c5fdcf47bdab41846854e1afbd": {
          "model_module": "@jupyter-widgets/base",
          "model_module_version": "1.2.0",
          "model_name": "LayoutModel",
          "state": {
            "_model_module": "@jupyter-widgets/base",
            "_model_module_version": "1.2.0",
            "_model_name": "LayoutModel",
            "_view_count": null,
            "_view_module": "@jupyter-widgets/base",
            "_view_module_version": "1.2.0",
            "_view_name": "LayoutView",
            "align_content": null,
            "align_items": null,
            "align_self": null,
            "border": null,
            "bottom": null,
            "display": null,
            "flex": null,
            "flex_flow": null,
            "grid_area": null,
            "grid_auto_columns": null,
            "grid_auto_flow": null,
            "grid_auto_rows": null,
            "grid_column": null,
            "grid_gap": null,
            "grid_row": null,
            "grid_template_areas": null,
            "grid_template_columns": null,
            "grid_template_rows": null,
            "height": null,
            "justify_content": null,
            "justify_items": null,
            "left": null,
            "margin": null,
            "max_height": null,
            "max_width": null,
            "min_height": null,
            "min_width": null,
            "object_fit": null,
            "object_position": null,
            "order": null,
            "overflow": null,
            "overflow_x": null,
            "overflow_y": null,
            "padding": null,
            "right": null,
            "top": null,
            "visibility": null,
            "width": null
          }
        },
        "d4cfdb04be734b03b3329130e5da35ff": {
          "model_module": "@jupyter-widgets/base",
          "model_module_version": "1.2.0",
          "model_name": "LayoutModel",
          "state": {
            "_model_module": "@jupyter-widgets/base",
            "_model_module_version": "1.2.0",
            "_model_name": "LayoutModel",
            "_view_count": null,
            "_view_module": "@jupyter-widgets/base",
            "_view_module_version": "1.2.0",
            "_view_name": "LayoutView",
            "align_content": null,
            "align_items": null,
            "align_self": null,
            "border": null,
            "bottom": null,
            "display": null,
            "flex": null,
            "flex_flow": null,
            "grid_area": null,
            "grid_auto_columns": null,
            "grid_auto_flow": null,
            "grid_auto_rows": null,
            "grid_column": null,
            "grid_gap": null,
            "grid_row": null,
            "grid_template_areas": null,
            "grid_template_columns": null,
            "grid_template_rows": null,
            "height": null,
            "justify_content": null,
            "justify_items": null,
            "left": null,
            "margin": null,
            "max_height": null,
            "max_width": null,
            "min_height": null,
            "min_width": null,
            "object_fit": null,
            "object_position": null,
            "order": null,
            "overflow": null,
            "overflow_x": null,
            "overflow_y": null,
            "padding": null,
            "right": null,
            "top": null,
            "visibility": null,
            "width": null
          }
        },
        "d6fe237d8dbd44b58e67cc44c3f477b1": {
          "model_module": "@jupyter-widgets/controls",
          "model_module_version": "1.5.0",
          "model_name": "HTMLModel",
          "state": {
            "_dom_classes": [],
            "_model_module": "@jupyter-widgets/controls",
            "_model_module_version": "1.5.0",
            "_model_name": "HTMLModel",
            "_view_count": null,
            "_view_module": "@jupyter-widgets/controls",
            "_view_module_version": "1.5.0",
            "_view_name": "HTMLView",
            "description": "",
            "description_tooltip": null,
            "layout": "IPY_MODEL_8aca3671937c492fbe7a8a027ddf6b1e",
            "placeholder": "​",
            "style": "IPY_MODEL_adae1fa58e5547c782ab53d53d841b12",
            "value": " 1.96M/1.96M [00:00&lt;00:00, 3.09MB/s]"
          }
        },
        "da158c0664934f2a967994b1b3adc315": {
          "model_module": "@jupyter-widgets/controls",
          "model_module_version": "1.5.0",
          "model_name": "HTMLModel",
          "state": {
            "_dom_classes": [],
            "_model_module": "@jupyter-widgets/controls",
            "_model_module_version": "1.5.0",
            "_model_name": "HTMLModel",
            "_view_count": null,
            "_view_module": "@jupyter-widgets/controls",
            "_view_module_version": "1.5.0",
            "_view_name": "HTMLView",
            "description": "",
            "description_tooltip": null,
            "layout": "IPY_MODEL_ccc6d1c5fdcf47bdab41846854e1afbd",
            "placeholder": "​",
            "style": "IPY_MODEL_7668e820ff6446e596ded5bd4eceec57",
            "value": " 29.0/29.0 [00:00&lt;00:00, 985B/s]"
          }
        },
        "e713df9f24b4421d87c67732b56ef1eb": {
          "model_module": "@jupyter-widgets/base",
          "model_module_version": "1.2.0",
          "model_name": "LayoutModel",
          "state": {
            "_model_module": "@jupyter-widgets/base",
            "_model_module_version": "1.2.0",
            "_model_name": "LayoutModel",
            "_view_count": null,
            "_view_module": "@jupyter-widgets/base",
            "_view_module_version": "1.2.0",
            "_view_name": "LayoutView",
            "align_content": null,
            "align_items": null,
            "align_self": null,
            "border": null,
            "bottom": null,
            "display": null,
            "flex": null,
            "flex_flow": null,
            "grid_area": null,
            "grid_auto_columns": null,
            "grid_auto_flow": null,
            "grid_auto_rows": null,
            "grid_column": null,
            "grid_gap": null,
            "grid_row": null,
            "grid_template_areas": null,
            "grid_template_columns": null,
            "grid_template_rows": null,
            "height": null,
            "justify_content": null,
            "justify_items": null,
            "left": null,
            "margin": null,
            "max_height": null,
            "max_width": null,
            "min_height": null,
            "min_width": null,
            "object_fit": null,
            "object_position": null,
            "order": null,
            "overflow": null,
            "overflow_x": null,
            "overflow_y": null,
            "padding": null,
            "right": null,
            "top": null,
            "visibility": null,
            "width": null
          }
        },
        "e9f2cbf0c68c4da8b773b540f5f1af05": {
          "model_module": "@jupyter-widgets/controls",
          "model_module_version": "1.5.0",
          "model_name": "HBoxModel",
          "state": {
            "_dom_classes": [],
            "_model_module": "@jupyter-widgets/controls",
            "_model_module_version": "1.5.0",
            "_model_name": "HBoxModel",
            "_view_count": null,
            "_view_module": "@jupyter-widgets/controls",
            "_view_module_version": "1.5.0",
            "_view_name": "HBoxView",
            "box_style": "",
            "children": [
              "IPY_MODEL_8e644c0b3a874a73aee619cf945d55f3",
              "IPY_MODEL_8249e54026e747c4a4883d2dd362d219",
              "IPY_MODEL_d6fe237d8dbd44b58e67cc44c3f477b1"
            ],
            "layout": "IPY_MODEL_2410efa9b0fe47708c59dd68c1f5bf67"
          }
        },
        "f5d52cbbadff484d88824246129555c3": {
          "model_module": "@jupyter-widgets/controls",
          "model_module_version": "1.5.0",
          "model_name": "DescriptionStyleModel",
          "state": {
            "_model_module": "@jupyter-widgets/controls",
            "_model_module_version": "1.5.0",
            "_model_name": "DescriptionStyleModel",
            "_view_count": null,
            "_view_module": "@jupyter-widgets/base",
            "_view_module_version": "1.2.0",
            "_view_name": "StyleView",
            "description_width": ""
          }
        },
        "fe788c80212044a38ed8b9ada90cf958": {
          "model_module": "@jupyter-widgets/controls",
          "model_module_version": "1.5.0",
          "model_name": "DescriptionStyleModel",
          "state": {
            "_model_module": "@jupyter-widgets/controls",
            "_model_module_version": "1.5.0",
            "_model_name": "DescriptionStyleModel",
            "_view_count": null,
            "_view_module": "@jupyter-widgets/base",
            "_view_module_version": "1.2.0",
            "_view_name": "StyleView",
            "description_width": ""
          }
        },
        "ff2384f24fd64e469511f13b9ccbae04": {
          "model_module": "@jupyter-widgets/controls",
          "model_module_version": "1.5.0",
          "model_name": "HTMLModel",
          "state": {
            "_dom_classes": [],
            "_model_module": "@jupyter-widgets/controls",
            "_model_module_version": "1.5.0",
            "_model_name": "HTMLModel",
            "_view_count": null,
            "_view_module": "@jupyter-widgets/controls",
            "_view_module_version": "1.5.0",
            "_view_name": "HTMLView",
            "description": "",
            "description_tooltip": null,
            "layout": "IPY_MODEL_59998abed9684177b6b93840b116a6b5",
            "placeholder": "​",
            "style": "IPY_MODEL_00c85b8ad1ca47909311735c41d8aed4",
            "value": "Downloading: 100%"
          }
        },
        "ff9e12b897fc42dcb8979d63f6f971ac": {
          "model_module": "@jupyter-widgets/base",
          "model_module_version": "1.2.0",
          "model_name": "LayoutModel",
          "state": {
            "_model_module": "@jupyter-widgets/base",
            "_model_module_version": "1.2.0",
            "_model_name": "LayoutModel",
            "_view_count": null,
            "_view_module": "@jupyter-widgets/base",
            "_view_module_version": "1.2.0",
            "_view_name": "LayoutView",
            "align_content": null,
            "align_items": null,
            "align_self": null,
            "border": null,
            "bottom": null,
            "display": null,
            "flex": null,
            "flex_flow": null,
            "grid_area": null,
            "grid_auto_columns": null,
            "grid_auto_flow": null,
            "grid_auto_rows": null,
            "grid_column": null,
            "grid_gap": null,
            "grid_row": null,
            "grid_template_areas": null,
            "grid_template_columns": null,
            "grid_template_rows": null,
            "height": null,
            "justify_content": null,
            "justify_items": null,
            "left": null,
            "margin": null,
            "max_height": null,
            "max_width": null,
            "min_height": null,
            "min_width": null,
            "object_fit": null,
            "object_position": null,
            "order": null,
            "overflow": null,
            "overflow_x": null,
            "overflow_y": null,
            "padding": null,
            "right": null,
            "top": null,
            "visibility": null,
            "width": null
          }
        }
      }
    }
  },
  "nbformat": 4,
  "nbformat_minor": 0
}